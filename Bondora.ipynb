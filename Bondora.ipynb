{
 "cells": [
  {
   "cell_type": "markdown",
   "metadata": {
    "id": "4_uTHZN9UBMw"
   },
   "source": [
    "# Final Project\n",
    "\n",
    "Kyle Mann\n",
    "\n",
    "December 6, 2021"
   ]
  },
  {
   "cell_type": "markdown",
   "metadata": {
    "id": "6y32tDRceOuT"
   },
   "source": [
    "1. Data Cleaning"
   ]
  },
  {
   "cell_type": "markdown",
   "metadata": {
    "id": "CC2TSO0FU2ov"
   },
   "source": [
    "1.1 Upload dataset\n",
    "\n",
    "The dataset is a dataset originally obtained from the Bondora public API. Each record in the dataset represents a loan initiated on Bondora, a peer-to-peer lending service. All of the loans originate in Estonia, Finland, Spain, or  Slovakia.\n",
    "\n",
    "The dataset is available on Kaggle at the link https://www.kaggle.com/sid321axn/bondora-peer-to-peer-lending-loan-data\n",
    "\n",
    "Metadata on the columns is available at https://www.bondora.com/en/public-reports\n",
    "\n"
   ]
  },
  {
   "cell_type": "markdown",
   "metadata": {
    "id": "FXUxeMwRU5fQ"
   },
   "source": [
    "1.2 Import packages"
   ]
  },
  {
   "cell_type": "code",
   "execution_count": 2,
   "metadata": {
    "id": "-fap28fEUTYo"
   },
   "outputs": [],
   "source": [
    "import numpy as np\n",
    "import pandas as pd\n",
    "import os\n",
    "import sys\n",
    "import math\n",
    "import seaborn as sns\n",
    "import statistics as stat\n",
    "from matplotlib import pyplot as plt"
   ]
  },
  {
   "cell_type": "markdown",
   "metadata": {
    "id": "kakzyRs6Uzoh"
   },
   "source": [
    "1.3 Import Dataset\n",
    "\n"
   ]
  },
  {
   "cell_type": "code",
   "execution_count": 3,
   "metadata": {
    "colab": {
     "base_uri": "https://localhost:8080/"
    },
    "id": "ghIVSbbKUsPm",
    "outputId": "b5aa74b1-5d60-42c9-c449-54e42f9bf58b"
   },
   "outputs": [
    {
     "name": "stdout",
     "output_type": "stream",
     "text": [
      "(179235, 112)\n"
     ]
    }
   ],
   "source": [
    "bond_full_raw = pd.read_csv('LoanData_Bondora.csv', dtype={\"NrOfDependants\": str, \"WorkExperience\": str,\n",
    "                                                          \"Rating_V0\": str, \"Rating_V1\": str, \"Rating_V2\": str,\n",
    "                                                          \"CreditScoreEsEquifaxRisk\": str, \n",
    "                                                           \"CreditScoreFiAsiakasTietoRiskGrade\": str})\n",
    "print(bond_full_raw.shape)"
   ]
  },
  {
   "cell_type": "markdown",
   "metadata": {
    "id": "M6oGvEu8VAkT"
   },
   "source": [
    "1.4 Column Subset\n",
    "\n",
    "The full dataset has 179,235 records and 112 columns.\n",
    "\n",
    "The following types of variables are dropped:\n",
    "  - ID variables\n",
    "  - Data on the loan origination process such as # of bids\n",
    "  - Variables that fall chronoligically post-default\n",
    "  - Potential predictors for which the majority of the values are missing such as WorkExperience, OccupationArea, DebtToIncome, etc.\n",
    "  - Results of Bondora's in-house credit risk modeling such as Rating, ExpectedLoss, ExpectedReturn, ProbabilityOfDefault, etc.\n",
    "\n",
    "The following types of variables are kept:\n",
    "  - Dates of loan origination and default\n",
    "  - Loan amount and maximum interest rate\n",
    "  - Potential predictors that have few missing values such as "
   ]
  },
  {
   "cell_type": "code",
   "execution_count": 4,
   "metadata": {
    "id": "gL1AGg_lXpki"
   },
   "outputs": [],
   "source": [
    "rawdata_drop_vars = ['ReportAsOfEOD', 'LoanId', 'LoanNumber', 'ListedOnUTC', 'BiddingStartedOn', \n",
    " 'BidsPortfolioManager', 'LoanApplicationStartedDate', 'ApplicationSignedHour', \n",
    " 'ApplicationSignedWeekday', 'DateOfBirth', 'County', 'City', 'EmploymentPosition', \n",
    " 'MonthlyPaymentDay', 'EL_V0', 'Rating_V0', 'EL_V1', 'Rating_V1', 'Rating_V2', \n",
    " 'CreditScoreEsEquifaxRisk', 'CreditScoreFiAsiakasTietoRiskGrade', 'CreditScoreEeMini', \n",
    " 'NextPaymentDate', 'NextPaymentNr', 'PrincipalRecovery', 'InterestRecovery', \n",
    " 'RecoveryStage', 'StageActiveSince', 'Status', 'Restructured', 'ActiveLateCategory', \n",
    " 'WorseLateCategory', 'PrincipalDebtServicingCost', 'InterestAndPenaltyDebtServicingCost', \n",
    " 'ActiveLateLastPaymentCategory', 'PrincipalPaymentsMade', 'InterestAndPenaltyPaymentsMade', \n",
    " 'PrincipalWriteOffs', 'InterestAndPenaltyWriteOffs', 'PrincipalBalance', \n",
    " 'InterestAndPenaltyBalance', 'GracePeriodStart', 'GracePeriodEnd', 'UserName', \n",
    " 'BidsApi', 'BidsManual', 'LanguageCode', 'IncomeFromPrincipalEmployer', 'IncomeFromPension', \n",
    " 'IncomeFromFamilyAllowance', 'IncomeFromSocialWelfare', 'IncomeFromLeavePay', \n",
    " 'IncomeFromChildSupport', 'IncomeOther', 'PlannedPrincipalTillDate', 'CurrentDebtDaysPrimary', \n",
    " 'DebtOccuredOn', 'CurrentDebtDaysSecondary', 'DebtOccuredOnForSecondary', 'AppliedAmount',\n",
    " 'ExpectedLoss', 'LossGivenDefault', 'ExpectedReturn', 'ProbabilityOfDefault', \n",
    " 'ModelVersion', 'Rating', 'CreditScoreEsMicroL','EmploymentStatus', 'NrOfDependants', \n",
    " 'MaritalStatus', 'UseOfLoan', 'WorkExperience', 'OccupationArea', 'RefinanceLiabilities', \n",
    " 'DebtToIncome', 'FreeCash',\n",
    " 'MaturityDate_Original', 'MaturityDate_Last', 'ReScheduledOn', 'ContractEndDate',\n",
    " 'ActiveScheduleFirstPaymentReached', 'PlannedInterestTillDate', 'LastPaymentOn',\n",
    " 'NrOfScheduledPayments', 'PreviousEarlyRepaymentsBefoleLoan', 'PreviousEarlyRepaymentsCountBeforeLoan',\n",
    " 'EAD1', 'EAD2', 'PrincipalOverdueBySchedule', 'PlannedPrincipalPostDefault', 'PlannedInterestPostDefault']\n",
    "\n",
    "rawdata_keep_vars = ['NewCreditCustomer', 'LoanDate', 'VerificationType', 'Age', 'Gender', 'Country', \n",
    " 'Amount', 'Interest', 'LoanDuration', 'MonthlyPayment', \n",
    " 'EmploymentDurationCurrentEmployer', 'Education', 'HomeOwnershipType', 'IncomeTotal', \n",
    " 'ExistingLiabilities', 'LiabilitiesTotal', 'DefaultDate', \n",
    " 'NoOfPreviousLoansBeforeLoan', 'AmountOfPreviousLoansBeforeLoan', \n",
    " 'PreviousRepaymentsBeforeLoan', 'FirstPaymentDate']\n",
    "\n",
    "# Subset to relevant columns\n",
    "bond_restricted_columns = bond_full_raw[rawdata_keep_vars].copy()\n",
    "\n",
    "# Crate year of loan origination as character variable\n",
    "bond_restricted_columns['LoanYear'] = [x for x in bond_restricted_columns['LoanDate'].str.slice(0,4)]"
   ]
  },
  {
   "cell_type": "markdown",
   "metadata": {
    "id": "sNyDcEqhbSZq"
   },
   "source": [
    "1.5 Row Subset\n",
    "\n",
    "The years of loan origination range from 2009 to 2021, plotted below.\n",
    "We will attempt to build a model for probability of default. Because default may occur some time after the loan origination, we will drop the more recent records. Because about 90% of the loans that defaulted did so within 2.5 years, we will drop the loans originating in 2019 onward. Also, to keep the data size within the parameters of the project assignment, we will also drop loans originating in 2016 or earlier, and only include on loans originating in 2017 or 2018."
   ]
  },
  {
   "cell_type": "code",
   "execution_count": null,
   "metadata": {
    "colab": {
     "base_uri": "https://localhost:8080/",
     "height": 311
    },
    "id": "VWkUFK0obGnU",
    "outputId": "706c8f82-348d-41b0-b62c-31f200364e15"
   },
   "outputs": [
    {
     "data": {
      "image/png": "[encoded data removed]",
      "text/plain": [
       "<Figure size 432x288 with 1 Axes>"
      ]
     },
     "metadata": {
      "needs_background": "light"
     },
     "output_type": "display_data"
    }
   ],
   "source": [
    "# Plot # of records by loan origination year\n",
    "bond_restricted_columns['LoanYear'].value_counts(dropna=False).sort_index().plot.bar()\n",
    "plt.title(\"Loan Origination Year, Frequencies\")\n",
    "plt.ylabel('Number of Records')\n",
    "plt.xlabel('Loan Origination Year')\n",
    "plt.show()"
   ]
  },
  {
   "cell_type": "code",
   "execution_count": null,
   "metadata": {
    "colab": {
     "base_uri": "https://localhost:8080/"
    },
    "id": "pZDEU7Q1cZQT",
    "outputId": "e24d1e0c-3a59-40c6-ed23-0573db5c9551"
   },
   "outputs": [
    {
     "name": "stdout",
     "output_type": "stream",
     "text": [
      "(43036, 22)\n"
     ]
    }
   ],
   "source": [
    "# Subset to records with loan origination dates in 2017 or 2018\n",
    "bond0 = bond_restricted_columns.loc[[(2017 <= int(x)) & (int(x) <= 2018) for x in bond_restricted_columns['LoanYear']]].copy()\n",
    "print(bond0.shape)"
   ]
  },
  {
   "cell_type": "markdown",
   "metadata": {
    "id": "GRnXpOzvd09s"
   },
   "source": [
    "After the removal of unused columns and rows, the dataset is 43,036 records and 22 variables."
   ]
  },
  {
   "cell_type": "markdown",
   "metadata": {
    "id": "Ngb6Gj4Xd8_8"
   },
   "source": [
    "1.6 Data Preprocessing\n",
    "\n",
    "- Variables that rely on numeric codes are decoded according to the metadata at https://www.bondora.com/en/public-reports.\n",
    "- Categorical variables are recoded as dummy variables for input into models such as logistic regression.\n",
    "- Time from origination to default is computed.\n",
    "- A binary indicator Y/N variable for default is computed based on date of default. This will be the primary response variable in the analysis."
   ]
  },
  {
   "cell_type": "code",
   "execution_count": null,
   "metadata": {
    "id": "vKyoaXU-cf7m"
   },
   "outputs": [],
   "source": [
    "bond1 = bond0.copy()\n",
    "\n",
    "##################################################\n",
    "# VerificationType represents how financial verification was done\n",
    "# Convert numeric code to character values (based on metadata)\n",
    "def make_VerificationType_c(x): \n",
    "    if (x == 4): return 'Income and expenses verified'\n",
    "    elif (x == 3): return 'Income verified'\n",
    "    elif (x == 2): return 'Income unverified, cross-referenced by phone'\n",
    "    elif (x == 1): return 'Income unverified'\n",
    "    elif (x == 0): return 'Not set'\n",
    "    else:\n",
    "        assert(math.isnan(x))\n",
    "        return ''\n",
    "bond1['VerificationType_c'] = bond1['VerificationType'].apply(make_VerificationType_c)\n",
    "\n",
    "# VerificationType has 5 categories, but for the sake of analysis, we can condense to 'Verified', 'Unverified', and missing\n",
    "def make_VerificationType_binary(x): \n",
    "    if (x in ('Income and expenses verified', 'Income verified')): return 'Verified'\n",
    "    elif (x in ('Income unverified, cross-referenced by phone', 'Income unverified')): return 'Unverified'\n",
    "    elif (x in ('Not set', '')): return ''\n",
    "    else: assert(False)\n",
    "bond1['VerificationType_binary'] = bond1['VerificationType_c'].apply(make_VerificationType_binary)\n",
    "\n",
    "# Dummy indicator variables\n",
    "bond1['temp'] = bond1['VerificationType_binary']\n",
    "bond1 = pd.get_dummies(bond1, columns=['VerificationType_binary'], drop_first=False)\n",
    "bond1['VerificationType_binary'] = bond1['temp']\n",
    "\n",
    "##################################################\n",
    "# Age\n",
    "# Ages range from 18 to 77, but a few outliers are 0, 1, or 2. We set these values to missing.\n",
    "# Set the values that are 0/1/2 to missing\n",
    "bond1.loc[bond1['Age'].isin((0, 1, 2, 3)), 'Age'] = np.nan\n",
    "\n",
    "##################################################\n",
    "# Gender\n",
    "# Convert numeric code to character values (based on metadata)\n",
    "def make_Gender_c(x): \n",
    "    if (x == 0): return 'Male'\n",
    "    elif (x == 1): return 'Woman'\n",
    "    elif (x == 2): return 'Undefined'\n",
    "    else: assert(math.isnan(x))\n",
    "bond1['Gender_c'] = bond1['Gender'].apply(make_Gender_c)\n",
    "\n",
    "# Dummy indicator variables\n",
    "bond1['temp'] = bond1['Gender_c']\n",
    "bond1 = pd.get_dummies(bond1, columns=['Gender_c'], drop_first=False)\n",
    "bond1['Gender_c'] = bond1['temp']\n",
    "\n",
    "##################################################\n",
    "# Eduction\n",
    "# Convert numeric code to character values (based on metadata)\n",
    "def make_Education_c(x): \n",
    "    if (x == 1): return 'Primary education'\n",
    "    elif (x == 2): return 'Basic education'\n",
    "    elif (x == 3): return 'Vocational education'\n",
    "    elif (x == 4): return 'Secondary education'\n",
    "    elif (x == 5): return 'Higher education'\n",
    "    else:\n",
    "        assert(math.isnan(x) | (x == -1))\n",
    "        return ''\n",
    "bond1['Education_c'] = bond1['Education'].apply(make_Education_c)\n",
    "\n",
    "# VerificationType has 5 categories, but for the sake of analysis, we can condense to 'Primary' and 'Secondary', and missing\n",
    "def make_Education_simple(x): \n",
    "    if (x in ('Primary education', 'Basic education', 'Vocational education')): return 'Primary Education'\n",
    "    elif (x in ('Higher education', 'Secondary education')): return 'Secondary Education'\n",
    "    elif (x in ('')): return ''\n",
    "    else: assert(False)\n",
    "bond1['Education_simple'] = bond1['Education_c'].apply(make_Education_simple)\n",
    "\n",
    "# Dummy indicator variables\n",
    "bond1['temp'] = bond1['Education_simple']\n",
    "bond1 = pd.get_dummies(bond1, columns=['Education_simple'], drop_first=False)\n",
    "bond1['Education_simple'] = bond1['temp']\n",
    "\n",
    "##################################################\n",
    "# Home Ownership Type\n",
    "# Convert numeric code to character values (based on metadata)\n",
    "def make_HomeOwnershipType_c(x): \n",
    "    if (x == 1): return 'Owner'\n",
    "    elif (x == 2): return 'Living with parents'\n",
    "    elif (x == 3): return 'Tenant, pre-furnished property'\n",
    "    elif (x == 4): return 'Tenant, unfurnished property'\n",
    "    elif (x == 5): return 'Council house'\n",
    "    elif (x == 6): return 'Joint tenant'\n",
    "    elif (x == 7): return 'Joint ownership'\n",
    "    elif (x == 8): return 'Mortgage'\n",
    "    elif (x == 9): return 'Owner with encumbrance'\n",
    "    elif (x == 10): return 'Other'\n",
    "    else:\n",
    "        assert(math.isnan(x) | (x == -1))\n",
    "        return ''\n",
    "bond1['HomeOwnershipType_c'] = bond1['HomeOwnershipType'].apply(make_HomeOwnershipType_c)\n",
    "\n",
    "# VerificationType has 10 categories, but for the sake of analysis, we can condense to 'Owner' and 'Tenant', 'Other', and missing\n",
    "def make_HomeOwnershipType_simple(x): \n",
    "    if (x in ('Owner', 'Owner with encumbrance', 'Mortgage', 'Joint ownership')): return 'Owner'\n",
    "    elif (x in ('Council house', 'Tenant, unfurnished property', 'Tenant, pre-furnished property', 'Joint tenant')):\n",
    "        return 'Tenant'\n",
    "    elif (x in ('Other', 'Living with parents', 'Homeless')): return 'Other'\n",
    "    elif (x in ('')): return ''\n",
    "    else: assert(False)\n",
    "bond1['HomeOwnershipType_simple'] = bond1['HomeOwnershipType_c'].apply(make_HomeOwnershipType_simple)\n",
    "\n",
    "# Dummy indicator variables\n",
    "bond1['temp'] = bond1['HomeOwnershipType_simple']\n",
    "bond1 = pd.get_dummies(bond1, columns=['HomeOwnershipType_simple'], drop_first=False)\n",
    "bond1['HomeOwnershipType_simple'] = bond1['temp']\n",
    "\n",
    "##################################################\n",
    "# EmploymentDurationCurrentEmployer\n",
    "# Employment duration is a categorical variable. \n",
    "# Some categories indicate # of years such as UpTo1Year, UpTo2Years, etc.\n",
    "# There are also categories for retirees and other.\n",
    "# We reformat this variable as three features:\n",
    "#     1. EmploymentDurationCurrentEmployer_n - Numeric variable that represents # of years. If category cannot be converted to years, set as -1.\n",
    "#     2. EmploymentDuration_Other - Indicator variable for Other category\n",
    "#     3. Indicator variable for Retiree category\n",
    "bond1.loc[bond1['EmploymentDurationCurrentEmployer'].isnull(), 'EmploymentDurationCurrentEmployer'] = '' # Reformat missing values\n",
    "def make_EmploymentDurationCurrentEmployer_n(x): \n",
    "    if( x == 'Other'): return -1\n",
    "    elif( x == 'Retiree'): return -1\n",
    "    elif( x == 'TrialPeriod'): return 0\n",
    "    elif( x == 'UpTo1Year'): return 1\n",
    "    elif( x == 'UpTo2Years'): return 2\n",
    "    elif( x == 'UpTo3Years'): return 3\n",
    "    elif( x == 'UpTo4Years'): return 4\n",
    "    elif( x == 'UpTo5Years'): return 5\n",
    "    elif( x == 'MoreThan5Years'): return 6\n",
    "    elif( x == ''): return -1\n",
    "    else: assert(False)\n",
    "bond1['EmploymentDurationCurrentEmployer_n'] = bond1['EmploymentDurationCurrentEmployer'].apply(make_EmploymentDurationCurrentEmployer_n)\n",
    "bond1['EmploymentDuration_Other'] = (bond1['EmploymentDurationCurrentEmployer'] == 'Other') | (bond1['EmploymentDurationCurrentEmployer'].isnull())\n",
    "bond1['EmploymentDuration_Retiree'] = (bond1['EmploymentDurationCurrentEmployer'] == 'Retiree')\n",
    "\n",
    "##################################################        \n",
    "# Loan Initiation Date - Convert to Datetime\n",
    "bond1['LoanDate_dt'] = pd.to_datetime(bond1['LoanDate'])\n",
    "bond1['LoanDate_dt_since2017'] = (bond1['LoanDate_dt'] - pd.to_datetime('2017-01-01')).dt.days\n",
    "\n",
    "##################################################        \n",
    "# Loan Default Date - Convert to Datetime\n",
    "bond1['DefaultDate_dt'] = pd.to_datetime(bond1['DefaultDate'])\n",
    "\n",
    "##################################################        \n",
    "# IncomeTotal - Convert to log scale\n",
    "bond1['IncomeTotal'] = [min(x, 7500) for x in bond1['IncomeTotal']] # Cut off max at 10000. Some large outliers are likely entry errors\n",
    "bond1['IncomeTotal_log'] = [math.log(1+x) for x in bond1['IncomeTotal']] # log transform\n",
    "\n",
    "\n",
    "##################################################        \n",
    "# LiabilitiesTotal - Convert to log scale\n",
    "bond1['LiabilitiesTotal'] = [min(x, 4000) for x in bond1['LiabilitiesTotal']] # Cut off max at 4000 due to large outliers\n",
    "bond1['LiabilitiesTotal_log'] = [math.log(1+x) for x in bond1['LiabilitiesTotal']] # log transform\n",
    "bond1['LiabilitiesTotal_none'] = [(x == 0) for x in bond1['LiabilitiesTotal']]\n",
    "\n",
    "##################################################        \n",
    "# MonthlyPayment - Convert to log scale\n",
    "bond1['MonthlyPayment_log'] = [math.log(1+x) for x in bond1['MonthlyPayment']] # log transform\n",
    "\n",
    "##################################################        \n",
    "# Default binary indicator variable - Primary response variable\n",
    "bond1['Default_Binary'] = ['N' if x == True else 'Y' for x in bond1['DefaultDate'].isnull()]\n",
    "bond1['Default_Binary_n'] = [0 if x == True else 1 for x in bond1['DefaultDate'].isnull()]\n",
    "\n",
    "##################################################        \n",
    "# Time to Default (days)\n",
    "bond1['TimeToDefault'] = (bond1['DefaultDate_dt'] - bond1['LoanDate_dt']).dt.days\n",
    "\n",
    "##################################################        \n",
    "# Time to First Payment Date (days)\n",
    "bond1['FirstPaymentDate_dt'] = pd.to_datetime(bond1['FirstPaymentDate'])\n",
    "bond1['TimeToFirstPayment'] = (bond1['FirstPaymentDate_dt'] - bond1['LoanDate_dt']).dt.days\n",
    "\n",
    "##################################################\n",
    "# AmountOfPreviousLoansBeforeLoan  - Convert to log scale\n",
    "bond1['AmountOfPreviousLoansBeforeLoan_log'] = [math.log(1+x) for x in bond1['AmountOfPreviousLoansBeforeLoan']] # log transform\n",
    "\n",
    "##################################################\n",
    "# Country\n",
    "# Dummy indicator variables\n",
    "bond1['temp'] = bond1['Country']\n",
    "bond1 = pd.get_dummies(bond1, columns=['Country'], drop_first=False)\n",
    "bond1['Country'] = bond1['temp']\n",
    "\n",
    "##################################################\n",
    "# Completely random variable for testing\n",
    "bond1['randomvar'] = np.random.rand(bond1.shape[0])"
   ]
  },
  {
   "cell_type": "code",
   "execution_count": null,
   "metadata": {
    "id": "i7yIEqJn66Ai"
   },
   "outputs": [],
   "source": []
  },
  {
   "cell_type": "markdown",
   "metadata": {
    "id": "iyc3Rl9tng4I"
   },
   "source": [
    "2. Data Summary\n",
    "\n",
    "2.1 Univariate Summaries\n",
    "\n",
    "For the analysis of loan default probability, we plan to use the following variables:\n",
    "\n",
    "Response variable: Did Default Occur?\n",
    "\n",
    "Predictor variables: Country, total income, monthly loan payment amount, home ownership type, education type, duration of most recent employment, age, new credit customer, type of financial verification, time to first planned payment, and current liabilities\n",
    "\n",
    "To get familiar with the data, we will take a look at each of these features."
   ]
  },
  {
   "cell_type": "code",
   "execution_count": null,
   "metadata": {
    "id": "S5_0cQVEomGX"
   },
   "outputs": [],
   "source": [
    "# Utility functions\n",
    "\n",
    "# Add pct to counts\n",
    "def count_to_pct(x):\n",
    "  return(str(x) + '   ' + str(round(100 * x / bond1.shape[0], 1)) + '%')\n",
    "\n",
    "# Show categorical counts & pct\n",
    "def show_counts(var):\n",
    "  x = bond1[var].value_counts(dropna=False)\n",
    "  y = x.apply(count_to_pct)\n",
    "  print(y)\n",
    "  \n",
    "# Get % of vector that is 'Y'\n",
    "def get_yes_pct(vec):\n",
    "    return(str(round(100 * sum(vec=='Y')/len(vec), 1)) + '%')\n",
    "\n",
    "# Get % of dataset that had default\n",
    "def show_default_pct(ds, printtext):\n",
    "  print(printtext + ' - Default rate ' + get_yes_pct(ds['Default_Binary']))\n",
    "\n",
    "# Pearson correlations\n",
    "from scipy.stats import pearsonr\n",
    "def compute_nonna_corr(var1, var2):\n",
    "    nas = np.logical_or(np.isnan(bond1[var1]), np.isnan(bond1[var2]))\n",
    "    return(pearsonr(bond1[var1][~nas], bond1[var2][~nas])[0])\n"
   ]
  },
  {
   "cell_type": "markdown",
   "metadata": {
    "id": "LKNRR4-zoJK7"
   },
   "source": [
    "2.1.1 Did Default Occur?\n",
    "\n",
    "Default occurred for 52.8% of the records in the entire dataset"
   ]
  },
  {
   "cell_type": "code",
   "execution_count": null,
   "metadata": {
    "colab": {
     "base_uri": "https://localhost:8080/"
    },
    "id": "zW2PBkuWohM_",
    "outputId": "0db7c15f-b092-4292-f7af-635278ad2b55"
   },
   "outputs": [
    {
     "name": "stdout",
     "output_type": "stream",
     "text": [
      "Entire data - Default rate 52.8%\n"
     ]
    }
   ],
   "source": [
    "show_default_pct(bond1, 'Entire data')"
   ]
  },
  {
   "cell_type": "markdown",
   "metadata": {
    "id": "DCOq7C-Oq7lJ"
   },
   "source": [
    "2.1.2 Country\n",
    "\n",
    "The three countries in the data for 2017/2018 are Estonia with 16,946 records, Finland with 9,182 records, and Spain with 5,799 records. \n",
    "\n",
    "There is a marked difference in default rate between the three countries with Estonia's default rate at around 42% and the default rate for Finland and Spain around 73%."
   ]
  },
  {
   "cell_type": "code",
   "execution_count": null,
   "metadata": {
    "colab": {
     "base_uri": "https://localhost:8080/"
    },
    "id": "kUVx84_AohKh",
    "outputId": "0ded24cd-2bce-4242-f94b-25553ca1d046"
   },
   "outputs": [
    {
     "name": "stdout",
     "output_type": "stream",
     "text": [
      "EE    28055   65.2%\n",
      "FI     9182   21.3%\n",
      "ES     5799   13.5%\n",
      "Name: Country, dtype: object\n",
      "\n",
      "Estonia - Default rate 42.2%\n",
      "Finland - Default rate 72.8%\n",
      "Spain - Default rate 73.0%\n"
     ]
    }
   ],
   "source": [
    "show_counts('Country')\n",
    "print()\n",
    "show_default_pct(bond1.loc[bond1['Country'] == 'EE'], 'Estonia')\n",
    "show_default_pct(bond1.loc[bond1['Country'] == 'FI'], 'Finland')\n",
    "show_default_pct(bond1.loc[bond1['Country'] == 'ES'], 'Spain')"
   ]
  },
  {
   "cell_type": "markdown",
   "metadata": {
    "id": "coc_bSDVuVS7"
   },
   "source": [
    "###2.1.3 Total income\n",
    "\n",
    "The median income is 1200 Eur/month.\n",
    "\n",
    "Little correlation between income and default outcome is observable from a boxplot."
   ]
  },
  {
   "cell_type": "code",
   "execution_count": null,
   "metadata": {
    "colab": {
     "base_uri": "https://localhost:8080/",
     "height": 565
    },
    "id": "6W3BnDRCsGP9",
    "outputId": "3fdf35d4-7c4e-4300-e618-8eda7bb204ae"
   },
   "outputs": [
    {
     "name": "stdout",
     "output_type": "stream",
     "text": [
      "1200.0\n"
     ]
    },
    {
     "data": {
      "image/png": "[encoded data removed]",
      "text/plain": [
       "<Figure size 432x288 with 1 Axes>"
      ]
     },
     "metadata": {
      "needs_background": "light"
     },
     "output_type": "display_data"
    },
    {
     "data": {
      "text/plain": [
       "<matplotlib.axes._subplots.AxesSubplot at 0x7f381485de10>"
      ]
     },
     "execution_count": 9,
     "metadata": {},
     "output_type": "execute_result"
    },
    {
     "data": {
      "image/png": "[encoded data removed]",
      "text/plain": [
       "<Figure size 432x288 with 1 Axes>"
      ]
     },
     "metadata": {
      "needs_background": "light"
     },
     "output_type": "display_data"
    }
   ],
   "source": [
    "# the histogram of the data\n",
    "print(stat.median(bond1['IncomeTotal']))\n",
    "plt.hist(bond1['IncomeTotal'], 50, density=True, facecolor='g', alpha=0.75)\n",
    "plt.show()\n",
    "\n",
    "# Boxplot\n",
    "sns.boxplot(data=bond1, x='Default_Binary', y='IncomeTotal_log')"
   ]
  },
  {
   "cell_type": "markdown",
   "metadata": {
    "id": "t8YgMqNNxiZM"
   },
   "source": [
    "2.1.4 Monthly Loan Payment Amount\n",
    "\n",
    "Most monthly payments for initiated loans are <500 Eur/month with the median being 79 Eur/month.\n",
    "\n",
    "A boxplot indicates that there may be slight positive correlation between monthly payment amount and default outcome."
   ]
  },
  {
   "cell_type": "code",
   "execution_count": null,
   "metadata": {
    "colab": {
     "base_uri": "https://localhost:8080/",
     "height": 566
    },
    "id": "2dQlxaZyxpXL",
    "outputId": "24f6ed91-5234-446e-c6eb-268c086c2bf2"
   },
   "outputs": [
    {
     "name": "stdout",
     "output_type": "stream",
     "text": [
      "79.44\n"
     ]
    },
    {
     "data": {
      "image/png": "[encoded data removed]",
      "text/plain": [
       "<Figure size 432x288 with 1 Axes>"
      ]
     },
     "metadata": {
      "needs_background": "light"
     },
     "output_type": "display_data"
    },
    {
     "data": {
      "text/plain": [
       "<matplotlib.axes._subplots.AxesSubplot at 0x7f755c867090>"
      ]
     },
     "execution_count": 521,
     "metadata": {},
     "output_type": "execute_result"
    },
    {
     "data": {
      "image/png": "[encoded data removed]",
      "text/plain": [
       "<Figure size 432x288 with 1 Axes>"
      ]
     },
     "metadata": {
      "needs_background": "light"
     },
     "output_type": "display_data"
    }
   ],
   "source": [
    "# the histogram of the data\n",
    "print(stat.median(bond1['MonthlyPayment']))\n",
    "plt.hist(bond1['MonthlyPayment'], 50, density=True, facecolor='g', alpha=0.75)\n",
    "plt.show()\n",
    "\n",
    "# Boxplot\n",
    "sns.boxplot(data=bond1, x='Default_Binary', y='MonthlyPayment_log')"
   ]
  },
  {
   "cell_type": "markdown",
   "metadata": {
    "id": "SRhP5anMyLn9"
   },
   "source": [
    "2.1.5 Home Ownership Type\n",
    "\n",
    "About half of borrowers are home owners, with the rest split between being tenants or halving other housing situations.\n",
    "\n",
    "Default rate appears to be correlated with home ownership type, with 48% default rate for home owners, 56% for the 'other' category, and 61% for tenants."
   ]
  },
  {
   "cell_type": "code",
   "execution_count": null,
   "metadata": {
    "colab": {
     "base_uri": "https://localhost:8080/"
    },
    "id": "1EzjYzNRuwzK",
    "outputId": "16daf4bd-fcb0-4a9f-cfb5-3fb82df22c94"
   },
   "outputs": [
    {
     "name": "stdout",
     "output_type": "stream",
     "text": [
      "Owner     23662   55.0%\n",
      "Tenant    10802   25.1%\n",
      "Other      8569   19.9%\n",
      "               3   0.0%\n",
      "Name: HomeOwnershipType_simple, dtype: object\n",
      "\n",
      "Owner - Default rate 48.0%\n",
      "Other - Default rate 56.0%\n",
      "Tenant - Default rate 60.9%\n"
     ]
    }
   ],
   "source": [
    "show_counts('HomeOwnershipType_simple')\n",
    "print()\n",
    "\n",
    "show_default_pct(bond1.loc[bond1['HomeOwnershipType_simple'] == 'Owner'], 'Owner')\n",
    "show_default_pct(bond1.loc[bond1['HomeOwnershipType_simple'] == 'Other'], 'Other')\n",
    "show_default_pct(bond1.loc[bond1['HomeOwnershipType_simple'] == 'Tenant'], 'Tenant')"
   ]
  },
  {
   "cell_type": "markdown",
   "metadata": {
    "id": "Thjwi-BS0UsN"
   },
   "source": [
    "###2.1.6 Education Type\n",
    "\n",
    "About 1/3 of borrowers have primary education and 2/3 secondary education.\n",
    "\n",
    "Default rate appears to be correlated with education, with 63% default rate for borrowers with primary education and 48% default rate for borrowers with secondary education."
   ]
  },
  {
   "cell_type": "code",
   "execution_count": null,
   "metadata": {
    "colab": {
     "base_uri": "https://localhost:8080/"
    },
    "id": "wU6PgYMM0asN",
    "outputId": "c26866bd-4168-4ef0-b863-1d8eb34235dd"
   },
   "outputs": [
    {
     "name": "stdout",
     "output_type": "stream",
     "text": [
      "Secondary Education    29382   68.3%\n",
      "Primary Education      13650   31.7%\n",
      "                            4   0.0%\n",
      "Name: Education_simple, dtype: object\n",
      "\n",
      "Secondary Education - Default rate 48.3%\n",
      "Primary Education - Default rate 62.7%\n"
     ]
    }
   ],
   "source": [
    "show_counts('Education_simple')\n",
    "print()\n",
    "\n",
    "show_default_pct(bond1.loc[bond1['Education_simple'] == 'Secondary Education'], 'Secondary Education')\n",
    "show_default_pct(bond1.loc[bond1['Education_simple'] == 'Primary Education'], 'Primary Education')"
   ]
  },
  {
   "cell_type": "markdown",
   "metadata": {
    "id": "RXAuA87q1D_G"
   },
   "source": [
    "###2.1.7 Duration of Most Recent Employment\n",
    "\n",
    "Out of the durations of most recent employment, it appears that retirees may have a higher default rate (66%) than other groups, though not much other trend is apparent."
   ]
  },
  {
   "cell_type": "code",
   "execution_count": null,
   "metadata": {
    "colab": {
     "base_uri": "https://localhost:8080/"
    },
    "id": "z5mBAWkj1LNc",
    "outputId": "8b9cbc2c-469a-45e9-a0aa-bf59e6de8c00"
   },
   "outputs": [
    {
     "name": "stdout",
     "output_type": "stream",
     "text": [
      "MoreThan5Years    17463   40.6%\n",
      "UpTo5Years        10186   23.7%\n",
      "UpTo1Year          7563   17.6%\n",
      "Retiree             2048   4.8%\n",
      "UpTo2Years          1827   4.2%\n",
      "UpTo3Years          1557   3.6%\n",
      "Other               1153   2.7%\n",
      "UpTo4Years           984   2.3%\n",
      "TrialPeriod          254   0.6%\n",
      "                       1   0.0%\n",
      "Name: EmploymentDurationCurrentEmployer, dtype: object\n",
      "\n",
      "TrialPeriod - Default rate 52.0%\n",
      "UpTo1Year - Default rate 52.8%\n",
      "UpTo2Years - Default rate 57.0%\n",
      "UpTo3Years - Default rate 54.1%\n",
      "UpTo4Years - Default rate 50.0%\n",
      "UpTo5Years - Default rate 49.6%\n",
      "MoreThan5Years - Default rate 52.6%\n",
      "Other - Default rate 57.1%\n",
      "Retiree - Default rate 65.9%\n"
     ]
    }
   ],
   "source": [
    "show_counts('EmploymentDurationCurrentEmployer')\n",
    "print()\n",
    "\n",
    "show_default_pct(bond1.loc[bond1['EmploymentDurationCurrentEmployer_n'] == 0], 'TrialPeriod')\n",
    "show_default_pct(bond1.loc[bond1['EmploymentDurationCurrentEmployer_n'] == 1], 'UpTo1Year')\n",
    "show_default_pct(bond1.loc[bond1['EmploymentDurationCurrentEmployer_n'] == 2], 'UpTo2Years')\n",
    "show_default_pct(bond1.loc[bond1['EmploymentDurationCurrentEmployer_n'] == 3], 'UpTo3Years')\n",
    "show_default_pct(bond1.loc[bond1['EmploymentDurationCurrentEmployer_n'] == 4], 'UpTo4Years')\n",
    "show_default_pct(bond1.loc[bond1['EmploymentDurationCurrentEmployer_n'] == 5], 'UpTo5Years')\n",
    "show_default_pct(bond1.loc[bond1['EmploymentDurationCurrentEmployer_n'] == 6], 'MoreThan5Years')\n",
    "show_default_pct(bond1.loc[bond1['EmploymentDuration_Other'] == True], 'Other')\n",
    "show_default_pct(bond1.loc[bond1['EmploymentDuration_Retiree'] == True], 'Retiree')\n"
   ]
  },
  {
   "cell_type": "markdown",
   "metadata": {
    "id": "wuqaysh02N6d"
   },
   "source": [
    "2.1.8 Age\n",
    "\n",
    "Age ranges from 18 to 77. No correlation with default rate is apparent."
   ]
  },
  {
   "cell_type": "code",
   "execution_count": null,
   "metadata": {
    "colab": {
     "base_uri": "https://localhost:8080/",
     "height": 562
    },
    "id": "1nvKGRU-ogzA",
    "outputId": "f7580794-0834-494b-c907-ef81ed1cb83a"
   },
   "outputs": [
    {
     "name": "stdout",
     "output_type": "stream",
     "text": [
      "40.0\n"
     ]
    },
    {
     "data": {
      "image/png": "[encoded data removed]",
      "text/plain": [
       "<Figure size 432x288 with 1 Axes>"
      ]
     },
     "metadata": {
      "needs_background": "light"
     },
     "output_type": "display_data"
    },
    {
     "data": {
      "text/plain": [
       "<matplotlib.axes._subplots.AxesSubplot at 0x7f754a75ff10>"
      ]
     },
     "execution_count": 525,
     "metadata": {},
     "output_type": "execute_result"
    },
    {
     "data": {
      "image/png": "[encoded data removed]",
      "text/plain": [
       "<Figure size 432x288 with 1 Axes>"
      ]
     },
     "metadata": {
      "needs_background": "light"
     },
     "output_type": "display_data"
    }
   ],
   "source": [
    "# the histogram of the data\n",
    "print(stat.median(bond1['Age']))\n",
    "plt.hist(bond1['Age'], 50, density=True, facecolor='g', alpha=0.75)\n",
    "plt.show()\n",
    "\n",
    "# Boxplot\n",
    "sns.boxplot(data=bond1, x='Default_Binary', y='Age')"
   ]
  },
  {
   "cell_type": "markdown",
   "metadata": {
    "id": "09djit2L2eo1"
   },
   "source": [
    "2.1.9 New Credit Customer\n",
    "\n",
    "Borrowers who are new credit customers have a higher default rate at 61% than those who are not at 46%."
   ]
  },
  {
   "cell_type": "code",
   "execution_count": null,
   "metadata": {
    "colab": {
     "base_uri": "https://localhost:8080/"
    },
    "id": "jFelv_PA2kde",
    "outputId": "ed0d75d4-69b5-46fc-a92d-3712c825dd83"
   },
   "outputs": [
    {
     "name": "stdout",
     "output_type": "stream",
     "text": [
      "False    23435   54.5%\n",
      "True     19601   45.5%\n",
      "Name: NewCreditCustomer, dtype: object\n",
      "\n",
      "New Credit Customer - Default rate 60.9%\n",
      "NOT New Credit Customer - Default rate 46.1%\n"
     ]
    }
   ],
   "source": [
    "show_counts('NewCreditCustomer')\n",
    "print()\n",
    "\n",
    "show_default_pct(bond1.loc[bond1['NewCreditCustomer'] == True], 'New Credit Customer')\n",
    "show_default_pct(bond1.loc[bond1['NewCreditCustomer'] == False], 'NOT New Credit Customer')"
   ]
  },
  {
   "cell_type": "markdown",
   "metadata": {
    "id": "efW-uEeP26xX"
   },
   "source": [
    "2.1.10 Type of Financial Verification\n",
    "\n",
    "In one of the largest surprises of the exploratory analysis, borrowers with no income verification have lower default rate (47%) than those who do (57%).\n",
    "\n",
    "It is important to remember that this data is not a random sample of the potential borrowing population, but represents loans initiated at Bondora. It is possible that financial verification was only required for what Bondora judged to be riskier loans, hence the higher default rate."
   ]
  },
  {
   "cell_type": "code",
   "execution_count": null,
   "metadata": {
    "colab": {
     "base_uri": "https://localhost:8080/"
    },
    "id": "3903x9db2ka2",
    "outputId": "b1f178d8-dc60-4e5f-cb69-48f883430f3f"
   },
   "outputs": [
    {
     "name": "stdout",
     "output_type": "stream",
     "text": [
      "Verified      24179   56.2%\n",
      "Unverified    18857   43.8%\n",
      "Name: VerificationType_binary, dtype: object\n",
      "\n",
      "Verified - Default rate 57.1%\n",
      "Unverified - Default rate 47.3%\n"
     ]
    }
   ],
   "source": [
    "show_counts('VerificationType_binary')\n",
    "print()\n",
    "\n",
    "show_default_pct(bond1.loc[bond1['VerificationType_binary'] == 'Verified'], 'Verified')\n",
    "show_default_pct(bond1.loc[bond1['VerificationType_binary'] == 'Unverified'], 'Unverified')"
   ]
  },
  {
   "cell_type": "markdown",
   "metadata": {
    "id": "eOJOjflZ3_6P"
   },
   "source": [
    "2.1.11 Time to First Planned Payment\n",
    "\n",
    "Time to first planned payment ranges from about 30 to 60 days and has no visible correlation with default rate."
   ]
  },
  {
   "cell_type": "code",
   "execution_count": null,
   "metadata": {
    "colab": {
     "base_uri": "https://localhost:8080/",
     "height": 562
    },
    "id": "2ueI8CdB2kRd",
    "outputId": "9fa75b0e-3fd8-41aa-8adf-b6ffe4736086"
   },
   "outputs": [
    {
     "name": "stdout",
     "output_type": "stream",
     "text": [
      "47.0\n"
     ]
    },
    {
     "data": {
      "image/png": "[encoded data removed]",
      "text/plain": [
       "<Figure size 432x288 with 1 Axes>"
      ]
     },
     "metadata": {
      "needs_background": "light"
     },
     "output_type": "display_data"
    },
    {
     "data": {
      "text/plain": [
       "<matplotlib.axes._subplots.AxesSubplot at 0x7f755c1febd0>"
      ]
     },
     "execution_count": 528,
     "metadata": {},
     "output_type": "execute_result"
    },
    {
     "data": {
      "image/png": "[encoded data removed]",
      "text/plain": [
       "<Figure size 432x288 with 1 Axes>"
      ]
     },
     "metadata": {
      "needs_background": "light"
     },
     "output_type": "display_data"
    }
   ],
   "source": [
    "# the histogram of the data\n",
    "print(stat.median(bond1['TimeToFirstPayment']))\n",
    "plt.hist(bond1['TimeToFirstPayment'], 50, density=True, facecolor='g', alpha=0.75)\n",
    "plt.show()\n",
    "\n",
    "# Boxplot\n",
    "sns.boxplot(data=bond1, x='Default_Binary', y='TimeToFirstPayment')"
   ]
  },
  {
   "cell_type": "markdown",
   "metadata": {
    "id": "wQyBvMaH4UKg"
   },
   "source": [
    "2.1.12 Date of Loan Initiation\n",
    "\n",
    "From the boxplot, it appears that the default rate decreased over time for the loans originated in 2017 and 2018. This may simply be due to the fact that the data was extracted in summer 2021, and so the 2018 loans were observed for a shorter period of time. To account for this, the number of days since 2017 will be included as a variable in the models. Another approach (likely preferable) would be to compute an alternate default outcome variable that only includes defaults within a certain timeframe (say 2 years)."
   ]
  },
  {
   "cell_type": "code",
   "execution_count": null,
   "metadata": {
    "colab": {
     "base_uri": "https://localhost:8080/",
     "height": 578
    },
    "id": "CVDMG6uo4brZ",
    "outputId": "aef4001f-649c-49eb-ba40-d2111565b07b"
   },
   "outputs": [
    {
     "data": {
      "image/png": "[encoded data removed]",
      "text/plain": [
       "<Figure size 432x288 with 1 Axes>"
      ]
     },
     "metadata": {
      "needs_background": "light"
     },
     "output_type": "display_data"
    },
    {
     "data": {
      "text/plain": [
       "<matplotlib.axes._subplots.AxesSubplot at 0x7f755bfc22d0>"
      ]
     },
     "execution_count": 529,
     "metadata": {},
     "output_type": "execute_result"
    },
    {
     "data": {
      "image/png": "[encoded data removed]",
      "text/plain": [
       "<Figure size 432x288 with 1 Axes>"
      ]
     },
     "metadata": {
      "needs_background": "light"
     },
     "output_type": "display_data"
    }
   ],
   "source": [
    "# the histogram of the data\n",
    "\n",
    "plt.hist(bond1['LoanDate_dt'], 50, density=True, facecolor='g', alpha=0.75)\n",
    "plt.xticks(rotation = 90)\n",
    "plt.show()\n",
    "\n",
    "# Boxplot\n",
    "sns.boxplot(data=bond1, x='Default_Binary', y='LoanDate_dt_since2017')"
   ]
  },
  {
   "cell_type": "markdown",
   "metadata": {
    "id": "QMg3FXvf8dIg"
   },
   "source": [
    "2.1.13 Gender\n",
    "\n",
    "The 'Undefined' gender category that represents about 4.4% of the records has a much higher default rate (76%) compared with either men or women. It appears the 'Undefined' category could be problem with lack of data collection rather than an actual attribute of the borrower."
   ]
  },
  {
   "cell_type": "code",
   "execution_count": null,
   "metadata": {
    "colab": {
     "base_uri": "https://localhost:8080/"
    },
    "id": "N5TwT3is8gFE",
    "outputId": "192d43d6-7a06-4a0e-b0e0-ef863e9d2226"
   },
   "outputs": [
    {
     "name": "stdout",
     "output_type": "stream",
     "text": [
      "Male         34188   79.4%\n",
      "Woman         6935   16.1%\n",
      "Undefined      1913   4.4%\n",
      "Name: Gender_c, dtype: object\n",
      "\n",
      "Male - Default rate 51.7%\n",
      "Woman - Default rate 51.9%\n",
      "Undefined - Default rate 76.2%\n"
     ]
    }
   ],
   "source": [
    "show_counts('Gender_c')\n",
    "print()\n",
    "\n",
    "show_default_pct(bond1.loc[bond1['Gender_c'] == 'Male'], 'Male')\n",
    "show_default_pct(bond1.loc[bond1['Gender_c'] == 'Woman'], 'Woman')\n",
    "show_default_pct(bond1.loc[bond1['Gender_c'] == 'Undefined'], 'Undefined')"
   ]
  },
  {
   "cell_type": "markdown",
   "metadata": {
    "id": "GNDBfL4x9TxP"
   },
   "source": [
    "##3. Problem Definition\n",
    "\n",
    "We would like to be able to predict whether future loans will result in default. This can be seen as a classification problem in which we have a binary response. We would like to develop a model that classifies loans as default or non-default based on the attributes that are provided."
   ]
  },
  {
   "cell_type": "markdown",
   "metadata": {
    "id": "MeAYbrcn_cwZ"
   },
   "source": [
    "###3.1 Evaluation Metrics\n",
    "To judge out classifiers, we will split the data into a train and test set. After training each classified on the training data, we will test its performance on the test data."
   ]
  },
  {
   "cell_type": "code",
   "execution_count": null,
   "metadata": {
    "id": "Vl25v97C_tco"
   },
   "outputs": [],
   "source": [
    "# Split into train and test\n",
    "from sklearn.model_selection import train_test_split\n",
    "X_training, X_testing, Y_training, Y_testing = train_test_split(bond1, bond1['Default_Binary'], test_size=0.3, random_state=500)"
   ]
  },
  {
   "cell_type": "markdown",
   "metadata": {
    "id": "LTjePQxb-ALo"
   },
   "source": [
    "3.2 Modeling Approach\n",
    "\n",
    "We will start with Logistic Regression, and try out different combinations of features, selecting a model based on accuracy and F1 Score.\n",
    "\n",
    "Once we have developed a Logistic Regression model, we will also try out K-nearest neighbors and perceptron models, and compare their performance."
   ]
  },
  {
   "cell_type": "markdown",
   "metadata": {
    "id": "whXm42eg-hMJ"
   },
   "source": [
    "4. Feature Extraction/Selection & Model Selection"
   ]
  },
  {
   "cell_type": "markdown",
   "metadata": {
    "id": "3IXdCUSf-nKp"
   },
   "source": [
    "4.1 Logistic Regression"
   ]
  },
  {
   "cell_type": "markdown",
   "metadata": {
    "id": "HCfa2WFM-r60"
   },
   "source": [
    "4.1.1 Logistic Regression - Country Only\n",
    "\n",
    "As we observed in 2.1.2 that the default rate varies across the three countries in the data, we will start with a logistic regression model that includes country as a predictor. Additionally to account for the different durations of observation, we will include the days from Jan 1 2017 to loan origination date(LoanDate_dt_since2017) in all models as described in 2.1.12.\n",
    "\n",
    "As a baseline for comparison, we also fit a model using a completely random variable as a predictor and compare the performance."
   ]
  },
  {
   "cell_type": "code",
   "execution_count": null,
   "metadata": {
    "id": "-1Ao0BRnAJtx"
   },
   "outputs": [],
   "source": [
    "# Import modules\n",
    "from sklearn.linear_model import LogisticRegression\n",
    "from sklearn.metrics import f1_score, precision_score, recall_score, accuracy_score\n",
    "\n",
    "# Function to run logistic model with specified predictors, and output performance\n",
    "def run_logistic_model(eval_metrics_list, model_name, model_vars):\n",
    "    #x_var = 'EmploymentDurationCurrentEmployer'\n",
    "    \n",
    "    model = LogisticRegression(max_iter=1000)\n",
    "    model.fit(X_training[model_vars], Y_training)\n",
    "    Y_testing_predicted = model.predict(X_testing[model_vars])\n",
    "    Y_testing_predweight_raw = np.exp((np.dot(X_testing[model_vars], model.coef_.T) + model.intercept_).astype(float))\n",
    "    Y_testing_predweight=Y_testing_predweight_raw/(1+Y_testing_predweight_raw)\n",
    "\n",
    "    # Compute F1-Score, Recall, Precision and Accuracy\n",
    "    metric_f1_score = round(f1_score(Y_testing, Y_testing_predicted, average='weighted'), 3) # f1_score\n",
    "    metric_precision = round(precision_score(Y_testing, Y_testing_predicted, average='weighted'), 3) # Precision\n",
    "    metric_recall = round(recall_score(Y_testing, Y_testing_predicted, average='weighted'), 3) # Recall\n",
    "    metric_accuracy = round(accuracy_score(Y_testing, Y_testing_predicted), 3) # Accuracy\n",
    "\n",
    "    # Save metrics\n",
    "    eval_metrics_list.append([model_name, metric_f1_score, metric_precision, metric_recall, metric_accuracy])\n",
    "    return(eval_metrics_list)"
   ]
  },
  {
   "cell_type": "code",
   "execution_count": null,
   "metadata": {
    "colab": {
     "base_uri": "https://localhost:8080/",
     "height": 166
    },
    "id": "f5p0Yk5i-hBB",
    "outputId": "b8acb411-12b9-45a2-d988-9628f731b65f"
   },
   "outputs": [
    {
     "name": "stderr",
     "output_type": "stream",
     "text": [
      "/usr/local/lib/python3.7/dist-packages/sklearn/metrics/_classification.py:1308: UndefinedMetricWarning: Precision is ill-defined and being set to 0.0 in labels with no predicted samples. Use `zero_division` parameter to control this behavior.\n",
      "  _warn_prf(average, modifier, msg_start, len(result))\n"
     ]
    },
    {
     "data": {
      "text/html": [
       "<div>\n",
       "<style scoped>\n",
       "    .dataframe tbody tr th:only-of-type {\n",
       "        vertical-align: middle;\n",
       "    }\n",
       "\n",
       "    .dataframe tbody tr th {\n",
       "        vertical-align: top;\n",
       "    }\n",
       "\n",
       "    .dataframe thead th {\n",
       "        text-align: right;\n",
       "    }\n",
       "</style>\n",
       "<table border=\"1\" class=\"dataframe\">\n",
       "  <thead>\n",
       "    <tr style=\"text-align: right;\">\n",
       "      <th></th>\n",
       "      <th>model</th>\n",
       "      <th>F1-Score</th>\n",
       "      <th>Recall</th>\n",
       "      <th>Precision</th>\n",
       "      <th>Accuracy</th>\n",
       "    </tr>\n",
       "  </thead>\n",
       "  <tbody>\n",
       "    <tr>\n",
       "      <th>0</th>\n",
       "      <td>Logistic - Random</td>\n",
       "      <td>0.363</td>\n",
       "      <td>0.277</td>\n",
       "      <td>0.526</td>\n",
       "      <td>0.526</td>\n",
       "    </tr>\n",
       "    <tr>\n",
       "      <th>1</th>\n",
       "      <td>Logistic - Country Only</td>\n",
       "      <td>0.629</td>\n",
       "      <td>0.648</td>\n",
       "      <td>0.633</td>\n",
       "      <td>0.633</td>\n",
       "    </tr>\n",
       "  </tbody>\n",
       "</table>\n",
       "</div>"
      ],
      "text/plain": [
       "                     model  F1-Score  Recall  Precision  Accuracy\n",
       "0        Logistic - Random     0.363   0.277      0.526     0.526\n",
       "1  Logistic - Country Only     0.629   0.648      0.633     0.633"
      ]
     },
     "execution_count": 470,
     "metadata": {},
     "output_type": "execute_result"
    }
   ],
   "source": [
    "# Set up list to store evaluation metrics\n",
    "names = ['model', 'F1-Score', 'Recall', 'Precision', 'Accuracy']\n",
    "eval_metrics_list1 = []\n",
    "\n",
    "#########################################################################\n",
    "# Logistic regression - random\n",
    "eval_metrics_list1 = run_logistic_model(eval_metrics_list = eval_metrics_list1, \n",
    "                                       model_name = 'Logistic - Random',\n",
    "                                       model_vars = ['randomvar'])\n",
    "\n",
    "# Logistic regression - country\n",
    "eval_metrics_list1 = run_logistic_model(eval_metrics_list = eval_metrics_list1, \n",
    "                                       model_name = 'Logistic - Country Only',\n",
    "                                       model_vars = ['Country_EE', 'Country_ES', 'Country_FI', 'LoanDate_dt_since2017'])\n",
    "\n",
    "\n",
    "# Convert the list containing the metrics to a Pandas dataframe and print\n",
    "eval_metrics = pd.DataFrame(eval_metrics_list1, columns=names)\n",
    "eval_metrics.head()\n"
   ]
  },
  {
   "cell_type": "markdown",
   "metadata": {
    "id": "Jl6ogtnMBiP6"
   },
   "source": [
    "Using countries as predictor variables increases the accuracy from 52.6% for the baseline random model up to 63.3%"
   ]
  },
  {
   "cell_type": "markdown",
   "metadata": {
    "id": "8s6_LSprC-f8"
   },
   "source": [
    "4.1.1 Logistic Regression - Model 1\n",
    "\n",
    "From the exploratory analysis in section 2., four variables that displayed correlation with the default rate are home ownership type, education level, newness to credit, and financial verification type. \n",
    "\n",
    "Plotting cross tables, there is correlation between education level and home ownership type and between new credit customer and verification type, though a weak correlation, nothing close to collinearity."
   ]
  },
  {
   "cell_type": "code",
   "execution_count": null,
   "metadata": {
    "colab": {
     "base_uri": "https://localhost:8080/"
    },
    "id": "rdodGHox9P9g",
    "outputId": "826910ec-002d-4ec1-db27-3a04264bd33a"
   },
   "outputs": [
    {
     "name": "stdout",
     "output_type": "stream",
     "text": [
      "Education_simple             Primary Education  Secondary Education\n",
      "HomeOwnershipType_simple                                           \n",
      "                          3                  0                    0\n",
      "Other                     0               2741                 5828\n",
      "Owner                     0               7053                16609\n",
      "Tenant                    1               3856                 6945\n",
      "\n",
      "% Secondary Education among Owner = 70.2%\n",
      "% Secondary Education among Other = 68.0%\n",
      "% Secondary Education among Tenant = 64.3%\n"
     ]
    }
   ],
   "source": [
    "# Correlation between education and home ownership type\n",
    "print(pd.crosstab(bond1['HomeOwnershipType_simple'], bond1['Education_simple']))\n",
    "print()\n",
    "print('% Secondary Education among Owner = ' + str(round(100*16609/(7053+16609), 1))+'%')\n",
    "print('% Secondary Education among Other = ' + str(round(100*5828/(2741+5828), 1))+'%')\n",
    "print('% Secondary Education among Tenant = ' + str(round(100*6945/(3856+6945), 1))+'%')"
   ]
  },
  {
   "cell_type": "code",
   "execution_count": null,
   "metadata": {
    "colab": {
     "base_uri": "https://localhost:8080/"
    },
    "id": "lIKljCBjF-RC",
    "outputId": "3bfc4538-2fa9-4d3c-aadb-56008de17a56"
   },
   "outputs": [
    {
     "name": "stdout",
     "output_type": "stream",
     "text": [
      "VerificationType_binary  Unverified  Verified\n",
      "NewCreditCustomer                            \n",
      "False                         12117     11318\n",
      "True                           6740     12861\n",
      "\n",
      "% Verified among New Credit Customers = 65.6%\n",
      "% Verified among Others = 48.3%\n"
     ]
    }
   ],
   "source": [
    "# Correlation between education and home ownership type\n",
    "print(pd.crosstab(bond1['NewCreditCustomer'], bond1['VerificationType_binary']))\n",
    "print()\n",
    "print('% Verified among New Credit Customers = ' + str(round(100*12861/(6740+12861), 1))+'%')\n",
    "print('% Verified among Others = ' + str(round(100*11318/(12117+11318), 1))+'%')"
   ]
  },
  {
   "cell_type": "markdown",
   "metadata": {
    "id": "nN1x7hZAGxJ3"
   },
   "source": [
    "Adding these four variables to the model, we fit the logistic regression model."
   ]
  },
  {
   "cell_type": "code",
   "execution_count": null,
   "metadata": {
    "colab": {
     "base_uri": "https://localhost:8080/",
     "height": 143
    },
    "id": "BcfqE4EHCAUS",
    "outputId": "79dbfbdd-f67c-4dd8-a0ab-b1f7e875a343"
   },
   "outputs": [
    {
     "data": {
      "text/html": [
       "<div>\n",
       "<style scoped>\n",
       "    .dataframe tbody tr th:only-of-type {\n",
       "        vertical-align: middle;\n",
       "    }\n",
       "\n",
       "    .dataframe tbody tr th {\n",
       "        vertical-align: top;\n",
       "    }\n",
       "\n",
       "    .dataframe thead th {\n",
       "        text-align: right;\n",
       "    }\n",
       "</style>\n",
       "<table border=\"1\" class=\"dataframe\">\n",
       "  <thead>\n",
       "    <tr style=\"text-align: right;\">\n",
       "      <th></th>\n",
       "      <th>model</th>\n",
       "      <th>F1-Score</th>\n",
       "      <th>Recall</th>\n",
       "      <th>Precision</th>\n",
       "      <th>Accuracy</th>\n",
       "    </tr>\n",
       "  </thead>\n",
       "  <tbody>\n",
       "    <tr>\n",
       "      <th>0</th>\n",
       "      <td>Logistic - Random</td>\n",
       "      <td>0.363</td>\n",
       "      <td>0.277</td>\n",
       "      <td>0.526</td>\n",
       "      <td>0.526</td>\n",
       "    </tr>\n",
       "    <tr>\n",
       "      <th>1</th>\n",
       "      <td>Logistic - Country Only</td>\n",
       "      <td>0.629</td>\n",
       "      <td>0.648</td>\n",
       "      <td>0.633</td>\n",
       "      <td>0.633</td>\n",
       "    </tr>\n",
       "    <tr>\n",
       "      <th>2</th>\n",
       "      <td>Logistic - Model 1</td>\n",
       "      <td>0.645</td>\n",
       "      <td>0.648</td>\n",
       "      <td>0.645</td>\n",
       "      <td>0.645</td>\n",
       "    </tr>\n",
       "  </tbody>\n",
       "</table>\n",
       "</div>"
      ],
      "text/plain": [
       "                     model  F1-Score  Recall  Precision  Accuracy\n",
       "0        Logistic - Random     0.363   0.277      0.526     0.526\n",
       "1  Logistic - Country Only     0.629   0.648      0.633     0.633\n",
       "2       Logistic - Model 1     0.645   0.648      0.645     0.645"
      ]
     },
     "execution_count": 473,
     "metadata": {},
     "output_type": "execute_result"
    }
   ],
   "source": [
    "eval_metrics_list2 = eval_metrics_list1.copy()\n",
    "\n",
    "#########################################################################\n",
    "# Logistic regression - Model 1\n",
    "model_vars_model1 = ['Country_EE', 'Country_ES', 'Country_FI', 'LoanDate_dt_since2017',\n",
    "                     'HomeOwnershipType_simple_Other', 'HomeOwnershipType_simple_Owner', 'HomeOwnershipType_simple_Tenant', # Home ownership type\n",
    "                     'Education_simple_Primary Education', 'Education_simple_Secondary Education', # Education type\n",
    "                     'NewCreditCustomer', # new credit customer\n",
    "                     'VerificationType_binary_Verified', 'VerificationType_binary_Unverified'] # type of financial verification\n",
    "\n",
    "eval_metrics_list2 = run_logistic_model(eval_metrics_list = eval_metrics_list2, \n",
    "                                       model_name = 'Logistic - Model 1',\n",
    "                                       model_vars = model_vars_model1)\n",
    "\n",
    "\n",
    "# Convert the list containing the metrics to a Pandas dataframe and print\n",
    "eval_metrics = pd.DataFrame(eval_metrics_list2, columns=names)\n",
    "eval_metrics.head()\n"
   ]
  },
  {
   "cell_type": "markdown",
   "metadata": {
    "id": "Ji6ztSZtIHTt"
   },
   "source": [
    "Adding thse four predictors of home ownership type, education level, newness to credit, and financial verification type improve the prediction accuracy from 63.3% to 64.5%."
   ]
  },
  {
   "cell_type": "markdown",
   "metadata": {
    "id": "dZOy-55SIXLE"
   },
   "source": [
    "4.1.2 Logistic Regression - Model 2\n",
    "\n",
    "In the exploratory analysis, the two variables that displayed some weak correlation with default rate are the loan monthly payment and whether the  borrower was a retiree. We add these variables to the logistic regression model"
   ]
  },
  {
   "cell_type": "code",
   "execution_count": null,
   "metadata": {
    "colab": {
     "base_uri": "https://localhost:8080/",
     "height": 174
    },
    "id": "ouzSDpGJIvrM",
    "outputId": "3f419867-b57a-479f-c6e6-68e070a604d6"
   },
   "outputs": [
    {
     "data": {
      "text/html": [
       "<div>\n",
       "<style scoped>\n",
       "    .dataframe tbody tr th:only-of-type {\n",
       "        vertical-align: middle;\n",
       "    }\n",
       "\n",
       "    .dataframe tbody tr th {\n",
       "        vertical-align: top;\n",
       "    }\n",
       "\n",
       "    .dataframe thead th {\n",
       "        text-align: right;\n",
       "    }\n",
       "</style>\n",
       "<table border=\"1\" class=\"dataframe\">\n",
       "  <thead>\n",
       "    <tr style=\"text-align: right;\">\n",
       "      <th></th>\n",
       "      <th>model</th>\n",
       "      <th>F1-Score</th>\n",
       "      <th>Recall</th>\n",
       "      <th>Precision</th>\n",
       "      <th>Accuracy</th>\n",
       "    </tr>\n",
       "  </thead>\n",
       "  <tbody>\n",
       "    <tr>\n",
       "      <th>0</th>\n",
       "      <td>Logistic - Random</td>\n",
       "      <td>0.363</td>\n",
       "      <td>0.277</td>\n",
       "      <td>0.526</td>\n",
       "      <td>0.526</td>\n",
       "    </tr>\n",
       "    <tr>\n",
       "      <th>1</th>\n",
       "      <td>Logistic - Country Only</td>\n",
       "      <td>0.629</td>\n",
       "      <td>0.648</td>\n",
       "      <td>0.633</td>\n",
       "      <td>0.633</td>\n",
       "    </tr>\n",
       "    <tr>\n",
       "      <th>2</th>\n",
       "      <td>Logistic - Model 1</td>\n",
       "      <td>0.645</td>\n",
       "      <td>0.648</td>\n",
       "      <td>0.645</td>\n",
       "      <td>0.645</td>\n",
       "    </tr>\n",
       "    <tr>\n",
       "      <th>3</th>\n",
       "      <td>Logistic - Model 2</td>\n",
       "      <td>0.645</td>\n",
       "      <td>0.648</td>\n",
       "      <td>0.645</td>\n",
       "      <td>0.645</td>\n",
       "    </tr>\n",
       "  </tbody>\n",
       "</table>\n",
       "</div>"
      ],
      "text/plain": [
       "                     model  F1-Score  Recall  Precision  Accuracy\n",
       "0        Logistic - Random     0.363   0.277      0.526     0.526\n",
       "1  Logistic - Country Only     0.629   0.648      0.633     0.633\n",
       "2       Logistic - Model 1     0.645   0.648      0.645     0.645\n",
       "3       Logistic - Model 2     0.645   0.648      0.645     0.645"
      ]
     },
     "execution_count": 474,
     "metadata": {},
     "output_type": "execute_result"
    }
   ],
   "source": [
    "eval_metrics_list3 = eval_metrics_list2.copy()\n",
    "\n",
    "#########################################################################\n",
    "# Logistic regression - Model 2\n",
    "model_vars_model2 = ['Country_EE', 'Country_ES', 'Country_FI', 'LoanDate_dt_since2017',\n",
    "                     'HomeOwnershipType_simple_Other', 'HomeOwnershipType_simple_Owner', 'HomeOwnershipType_simple_Tenant', # Home ownership type\n",
    "                     'Education_simple_Primary Education', 'Education_simple_Secondary Education', # Education type\n",
    "                     'NewCreditCustomer', # new credit customer\n",
    "                     'VerificationType_binary_Verified', 'VerificationType_binary_Unverified', # type of financial verification\n",
    "                     'MonthlyPayment_log', # Monthly payment amount for loan\n",
    "                     'EmploymentDuration_Retiree', # Retiree status\n",
    "                     ]\n",
    "                     \n",
    "eval_metrics_list3 = run_logistic_model(eval_metrics_list = eval_metrics_list3, \n",
    "                                       model_name = 'Logistic - Model 2',\n",
    "                                       model_vars = model_vars_model2)\n",
    "\n",
    "# Convert the list containing the metrics to a Pandas dataframe and print\n",
    "eval_metrics = pd.DataFrame(eval_metrics_list3, columns=names)\n",
    "eval_metrics.head()\n"
   ]
  },
  {
   "cell_type": "markdown",
   "metadata": {
    "id": "w07941P_KJW9"
   },
   "source": [
    "The addition of monthly payment and retiree status do not improve the accuracy. In fact, they have no affect on any of the metrics."
   ]
  },
  {
   "cell_type": "markdown",
   "metadata": {
    "id": "FrVe4LV0K-_e"
   },
   "source": [
    "4.1.2 Logistic Regression - Model 3\n",
    "\n",
    "We try adding the last variables of total income, age, and time to first payment, though they did not show correlation with default rate in the exploratory analysis, to see how the model performance is affected.\n",
    "\n",
    "Because the correlation of gender with default rate appeared to be a spurious association related to missing data, as described in 2.1.13, we do not include gender in any model."
   ]
  },
  {
   "cell_type": "code",
   "execution_count": null,
   "metadata": {
    "colab": {
     "base_uri": "https://localhost:8080/",
     "height": 206
    },
    "id": "AuK2wG5NIvtk",
    "outputId": "32634965-2087-4d22-af27-3c1250b3b846"
   },
   "outputs": [
    {
     "data": {
      "text/html": [
       "<div>\n",
       "<style scoped>\n",
       "    .dataframe tbody tr th:only-of-type {\n",
       "        vertical-align: middle;\n",
       "    }\n",
       "\n",
       "    .dataframe tbody tr th {\n",
       "        vertical-align: top;\n",
       "    }\n",
       "\n",
       "    .dataframe thead th {\n",
       "        text-align: right;\n",
       "    }\n",
       "</style>\n",
       "<table border=\"1\" class=\"dataframe\">\n",
       "  <thead>\n",
       "    <tr style=\"text-align: right;\">\n",
       "      <th></th>\n",
       "      <th>model</th>\n",
       "      <th>F1-Score</th>\n",
       "      <th>Recall</th>\n",
       "      <th>Precision</th>\n",
       "      <th>Accuracy</th>\n",
       "    </tr>\n",
       "  </thead>\n",
       "  <tbody>\n",
       "    <tr>\n",
       "      <th>0</th>\n",
       "      <td>Logistic - Random</td>\n",
       "      <td>0.363</td>\n",
       "      <td>0.277</td>\n",
       "      <td>0.526</td>\n",
       "      <td>0.526</td>\n",
       "    </tr>\n",
       "    <tr>\n",
       "      <th>1</th>\n",
       "      <td>Logistic - Country Only</td>\n",
       "      <td>0.629</td>\n",
       "      <td>0.648</td>\n",
       "      <td>0.633</td>\n",
       "      <td>0.633</td>\n",
       "    </tr>\n",
       "    <tr>\n",
       "      <th>2</th>\n",
       "      <td>Logistic - Model 1</td>\n",
       "      <td>0.645</td>\n",
       "      <td>0.648</td>\n",
       "      <td>0.645</td>\n",
       "      <td>0.645</td>\n",
       "    </tr>\n",
       "    <tr>\n",
       "      <th>3</th>\n",
       "      <td>Logistic - Model 2</td>\n",
       "      <td>0.645</td>\n",
       "      <td>0.648</td>\n",
       "      <td>0.645</td>\n",
       "      <td>0.645</td>\n",
       "    </tr>\n",
       "    <tr>\n",
       "      <th>4</th>\n",
       "      <td>Logistic - Model 3</td>\n",
       "      <td>0.646</td>\n",
       "      <td>0.648</td>\n",
       "      <td>0.645</td>\n",
       "      <td>0.645</td>\n",
       "    </tr>\n",
       "  </tbody>\n",
       "</table>\n",
       "</div>"
      ],
      "text/plain": [
       "                     model  F1-Score  Recall  Precision  Accuracy\n",
       "0        Logistic - Random     0.363   0.277      0.526     0.526\n",
       "1  Logistic - Country Only     0.629   0.648      0.633     0.633\n",
       "2       Logistic - Model 1     0.645   0.648      0.645     0.645\n",
       "3       Logistic - Model 2     0.645   0.648      0.645     0.645\n",
       "4       Logistic - Model 3     0.646   0.648      0.645     0.645"
      ]
     },
     "execution_count": 475,
     "metadata": {},
     "output_type": "execute_result"
    }
   ],
   "source": [
    "eval_metrics_list4 = eval_metrics_list3.copy()\n",
    "\n",
    "#########################################################################\n",
    "# Logistic regression - Model 3\n",
    "model_vars_model3 = ['Country_EE', 'Country_ES', 'Country_FI', 'LoanDate_dt_since2017',\n",
    "                     'HomeOwnershipType_simple_Other', 'HomeOwnershipType_simple_Owner', 'HomeOwnershipType_simple_Tenant', # Home ownership type\n",
    "                     'Education_simple_Primary Education', 'Education_simple_Secondary Education', # Education type\n",
    "                     'NewCreditCustomer', # new credit customer\n",
    "                     'VerificationType_binary_Verified', 'VerificationType_binary_Unverified', # type of financial verification\n",
    "                     'MonthlyPayment_log', # Monthly payment amount for loan\n",
    "                     'EmploymentDuration_Retiree', # Retiree status\n",
    "                     'IncomeTotal_log', # Total income\n",
    "                     'Age', # Age\n",
    "                     'TimeToFirstPayment' # Time To First Payment\n",
    "                     ]\n",
    "\n",
    "eval_metrics_list4 = run_logistic_model(eval_metrics_list = eval_metrics_list4, \n",
    "                                       model_name = 'Logistic - Model 3',\n",
    "                                       model_vars = model_vars_model3\n",
    "                                        )\n",
    "\n",
    "# Convert the list containing the metrics to a Pandas dataframe and print\n",
    "eval_metrics = pd.DataFrame(eval_metrics_list4, columns=names)\n",
    "eval_metrics.head()\n"
   ]
  },
  {
   "cell_type": "markdown",
   "metadata": {
    "id": "iwXqmdVILk_2"
   },
   "source": [
    "The addition of these last few variables have no further affect on the accuracy. "
   ]
  },
  {
   "cell_type": "markdown",
   "metadata": {
    "id": "ArjHzQ1fLtWd"
   },
   "source": [
    "4.1.2 Logistic Regression - Conclusions\n",
    "Based on the metrics, out of the logistic regression models, we prefer Model 1 that includes country, home ownership type, education level, newness to credit, and financial verification type. This model provides the maximal accuracy. The addition of further variables does not improve the accuracy, so we prefer the more parsimonious Model 1 over Model 2 or Model 3."
   ]
  },
  {
   "cell_type": "markdown",
   "metadata": {
    "id": "4-bp-atNMhSv"
   },
   "source": [
    "4.2 Separate Logistic Regressions\n",
    "\n",
    "It is possible that the effects of each predictor may behave differently in the three different countries, so we also try fitting three separate logistic regression models, one for each country with the same predictors as Model 1 and comparing the results."
   ]
  },
  {
   "cell_type": "code",
   "execution_count": null,
   "metadata": {
    "id": "2LNt7DycNIE1"
   },
   "outputs": [],
   "source": [
    "# Split train and test data by country\n",
    "\n",
    "# X Training\n",
    "X_training_EE = X_training.loc[X_training['Country'] == 'EE']\n",
    "X_training_FI = X_training.loc[X_training['Country'] == 'FI']\n",
    "X_training_ES = X_training.loc[X_training['Country'] == 'ES']\n",
    "# X Testing\n",
    "X_testing_EE = X_testing.loc[X_testing['Country'] == 'EE']\n",
    "X_testing_FI = X_testing.loc[X_testing['Country'] == 'FI']\n",
    "X_testing_ES = X_testing.loc[X_testing['Country'] == 'ES']\n",
    "# Y Training\n",
    "Y_training_EE = Y_training.loc[X_training['Country'] == 'EE']\n",
    "Y_training_FI = Y_training.loc[X_training['Country'] == 'FI']\n",
    "Y_training_ES = Y_training.loc[X_training['Country'] == 'ES']\n",
    "# Y Testing\n",
    "Y_testing_EE = Y_testing.loc[X_testing['Country'] == 'EE']\n",
    "Y_testing_FI = Y_testing.loc[X_testing['Country'] == 'FI']\n",
    "Y_testing_ES = Y_testing.loc[X_testing['Country'] == 'ES']\n",
    "\n",
    "Y_testing_country = pd.concat((Y_testing_EE, Y_testing_FI, Y_testing_ES))"
   ]
  },
  {
   "cell_type": "code",
   "execution_count": null,
   "metadata": {
    "id": "CJywCcqBIvwG"
   },
   "outputs": [],
   "source": [
    "# Separate logistic model for each country\n",
    "def run_logistic_separate_model(eval_metrics_list, model_name, model_vars):\n",
    "    #x_var = 'EmploymentDurationCurrentEmployer'\n",
    "    \n",
    "    model_EE = LogisticRegression(max_iter=1000)\n",
    "    model_EE.fit(X_training_EE[model_vars], Y_training_EE)\n",
    "    model_FI = LogisticRegression(max_iter=1000)\n",
    "    model_FI.fit(X_training_FI[model_vars], Y_training_FI)\n",
    "    model_ES = LogisticRegression(max_iter=1000)\n",
    "    model_ES.fit(X_training_ES[model_vars], Y_training_ES)\n",
    "\n",
    "    Y_testing_EE_predicted = model_EE.predict(X_testing_EE[model_vars])\n",
    "    Y_testing_FI_predicted = model_FI.predict(X_testing_FI[model_vars])\n",
    "    Y_testing_ES_predicted = model_ES.predict(X_testing_ES[model_vars])\n",
    "\n",
    "    print(type(Y_testing_EE_predicted))\n",
    "    Y_testing_country_predicted = np.concatenate((Y_testing_EE_predicted, Y_testing_FI_predicted, Y_testing_ES_predicted))\n",
    "\n",
    "    # Compute F1-Score, Recall, Precision and Accuracy\n",
    "    metric_f1_score = round(f1_score(Y_testing_country, Y_testing_country_predicted, average='weighted'), 3) # f1_score\n",
    "    metric_precision = round(precision_score(Y_testing_country, Y_testing_country_predicted, average='weighted'), 3) # Precision\n",
    "    metric_recall = round(recall_score(Y_testing_country, Y_testing_country_predicted, average='weighted'), 3) # Recall\n",
    "    metric_accuracy = round(accuracy_score(Y_testing_country, Y_testing_country_predicted), 3) # Accuracy\n",
    "\n",
    "    # Save metrics\n",
    "    eval_metrics_list.append([model_name, metric_f1_score, metric_precision, metric_recall, metric_accuracy])\n",
    "    return(eval_metrics_list)\n"
   ]
  },
  {
   "cell_type": "code",
   "execution_count": null,
   "metadata": {
    "colab": {
     "base_uri": "https://localhost:8080/"
    },
    "id": "hBMuWKwvO5Oq",
    "outputId": "6a6e1398-4eea-4525-f11d-dfd4a71ca7de"
   },
   "outputs": [
    {
     "name": "stdout",
     "output_type": "stream",
     "text": [
      "<class 'numpy.ndarray'>\n",
      "                         model  F1-Score  Recall  Precision  Accuracy\n",
      "0            Logistic - Random     0.363   0.277      0.526     0.526\n",
      "1      Logistic - Country Only     0.629   0.648      0.633     0.633\n",
      "2           Logistic - Model 1     0.645   0.648      0.645     0.645\n",
      "3           Logistic - Model 2     0.645   0.648      0.645     0.645\n",
      "4           Logistic - Model 3     0.646   0.648      0.645     0.645\n",
      "5  Logistic Separate - Model 1     0.646   0.648      0.646     0.646\n"
     ]
    }
   ],
   "source": [
    "eval_metrics_list_sep1 = eval_metrics_list4.copy()\n",
    "\n",
    "#########################################################################\n",
    "# Logistic regression - Model 2\n",
    "eval_metrics_list_sep1 = run_logistic_separate_model(eval_metrics_list = eval_metrics_list_sep1, \n",
    "                                       model_name = 'Logistic Separate - Model 1',\n",
    "                                       model_vars = model_vars_model1)\n",
    "\n",
    "# Convert the list containing the metrics to a Pandas dataframe and print\n",
    "eval_metrics = pd.DataFrame(eval_metrics_list_sep1, columns=names)\n",
    "print(eval_metrics)\n"
   ]
  },
  {
   "cell_type": "markdown",
   "metadata": {
    "id": "42_GNH0iReIM"
   },
   "source": [
    "The method of fitting a separate logistic regression model for each country provides nearly the same metrics as the model with a single logistic regression (i.e. accuracy of 64.6% vs 64.5%), so we prefer the single-model method due to simplicity."
   ]
  },
  {
   "cell_type": "markdown",
   "metadata": {
    "id": "ofu3uremR0q4"
   },
   "source": [
    "4.3 K Nearest Neighbors\n",
    "\n",
    "4.3.1 K Nearest Neighbors - Choosing K \n",
    "\n",
    "We try fitting K Nearest Neighbors Model for several values of K, using the same predictors as logistic model 1."
   ]
  },
  {
   "cell_type": "code",
   "execution_count": null,
   "metadata": {
    "id": "kQ31nomzWsrq"
   },
   "outputs": [],
   "source": [
    "# Standardize data. Neccessary in KNN unlike Logistic regression.\n",
    "from sklearn.preprocessing import StandardScaler\n",
    "num_vars = ['MonthlyPayment_log', 'IncomeTotal_log', 'Age', 'NoOfPreviousLoansBeforeLoan', 'TimeToFirstPayment', 'LoanDate_dt_since2017']\n",
    "bond1_std = bond1.copy()\n",
    "bond1_std[num_vars] = StandardScaler().fit_transform(bond1_std[num_vars])\n",
    "\n",
    "X_training, X_testing, Y_training, Y_testing = train_test_split(bond1_std, bond1_std['Default_Binary'], test_size=0.3, random_state=500)"
   ]
  },
  {
   "cell_type": "code",
   "execution_count": null,
   "metadata": {
    "id": "NB3PV63-aJEE"
   },
   "outputs": [],
   "source": [
    "# KNN Model\n",
    "def run_KNN_model(eval_metrics_list_KNN, k, model_num, model_vars):\n",
    "    model_vars = model_vars\n",
    "    model_name = 'Model ' + str(model_num) + ', KNN ' + str(k)\n",
    "    \n",
    "    modelKNN = KNeighborsClassifier(n_neighbors=k) # Use k nearest neighbors\n",
    "    modelKNN.fit(X_training[model_vars], Y_training)\n",
    "    Y_testing_predicted = modelKNN.predict(X_testing[model_vars])\n",
    "\n",
    "    # Compute F1-Score, Recall, Precision and Accuracy\n",
    "    metric_f1_score = round(f1_score(Y_testing, Y_testing_predicted, average='weighted'), 3) # f1_score\n",
    "    metric_precision = round(precision_score(Y_testing, Y_testing_predicted, average='weighted'), 3) # Precision\n",
    "    metric_recall = round(recall_score(Y_testing, Y_testing_predicted, average='weighted'), 3) # Recall\n",
    "    metric_accuracy = round(accuracy_score(Y_testing, Y_testing_predicted), 3) # Accuracy\n",
    "    eval_metrics_list_KNN.append([model_name, metric_f1_score, metric_precision, metric_recall, metric_accuracy])\n",
    "    return(eval_metrics_list_KNN)"
   ]
  },
  {
   "cell_type": "code",
   "execution_count": null,
   "metadata": {
    "colab": {
     "base_uri": "https://localhost:8080/",
     "height": 331
    },
    "id": "E107RAlgPk23",
    "outputId": "94dfd747-4630-4b57-ba1c-29f5fa1f8184"
   },
   "outputs": [
    {
     "data": {
      "text/html": [
       "<div>\n",
       "<style scoped>\n",
       "    .dataframe tbody tr th:only-of-type {\n",
       "        vertical-align: middle;\n",
       "    }\n",
       "\n",
       "    .dataframe tbody tr th {\n",
       "        vertical-align: top;\n",
       "    }\n",
       "\n",
       "    .dataframe thead th {\n",
       "        text-align: right;\n",
       "    }\n",
       "</style>\n",
       "<table border=\"1\" class=\"dataframe\">\n",
       "  <thead>\n",
       "    <tr style=\"text-align: right;\">\n",
       "      <th></th>\n",
       "      <th>model</th>\n",
       "      <th>F1-Score</th>\n",
       "      <th>Recall</th>\n",
       "      <th>Precision</th>\n",
       "      <th>Accuracy</th>\n",
       "    </tr>\n",
       "  </thead>\n",
       "  <tbody>\n",
       "    <tr>\n",
       "      <th>0</th>\n",
       "      <td>Logistic - Random</td>\n",
       "      <td>0.363</td>\n",
       "      <td>0.277</td>\n",
       "      <td>0.526</td>\n",
       "      <td>0.526</td>\n",
       "    </tr>\n",
       "    <tr>\n",
       "      <th>1</th>\n",
       "      <td>Logistic - Country Only</td>\n",
       "      <td>0.629</td>\n",
       "      <td>0.648</td>\n",
       "      <td>0.633</td>\n",
       "      <td>0.633</td>\n",
       "    </tr>\n",
       "    <tr>\n",
       "      <th>2</th>\n",
       "      <td>Logistic - Model 1</td>\n",
       "      <td>0.645</td>\n",
       "      <td>0.648</td>\n",
       "      <td>0.645</td>\n",
       "      <td>0.645</td>\n",
       "    </tr>\n",
       "    <tr>\n",
       "      <th>3</th>\n",
       "      <td>Logistic - Model 2</td>\n",
       "      <td>0.645</td>\n",
       "      <td>0.648</td>\n",
       "      <td>0.645</td>\n",
       "      <td>0.645</td>\n",
       "    </tr>\n",
       "    <tr>\n",
       "      <th>4</th>\n",
       "      <td>Logistic - Model 3</td>\n",
       "      <td>0.646</td>\n",
       "      <td>0.648</td>\n",
       "      <td>0.645</td>\n",
       "      <td>0.645</td>\n",
       "    </tr>\n",
       "    <tr>\n",
       "      <th>5</th>\n",
       "      <td>Logistic Separate - Model 1</td>\n",
       "      <td>0.646</td>\n",
       "      <td>0.648</td>\n",
       "      <td>0.646</td>\n",
       "      <td>0.646</td>\n",
       "    </tr>\n",
       "    <tr>\n",
       "      <th>6</th>\n",
       "      <td>Model 1, KNN 30</td>\n",
       "      <td>0.642</td>\n",
       "      <td>0.644</td>\n",
       "      <td>0.642</td>\n",
       "      <td>0.642</td>\n",
       "    </tr>\n",
       "    <tr>\n",
       "      <th>7</th>\n",
       "      <td>Model 1, KNN 40</td>\n",
       "      <td>0.644</td>\n",
       "      <td>0.646</td>\n",
       "      <td>0.644</td>\n",
       "      <td>0.644</td>\n",
       "    </tr>\n",
       "    <tr>\n",
       "      <th>8</th>\n",
       "      <td>Model 1, KNN 50</td>\n",
       "      <td>0.642</td>\n",
       "      <td>0.644</td>\n",
       "      <td>0.642</td>\n",
       "      <td>0.642</td>\n",
       "    </tr>\n",
       "  </tbody>\n",
       "</table>\n",
       "</div>"
      ],
      "text/plain": [
       "                         model  F1-Score  Recall  Precision  Accuracy\n",
       "0            Logistic - Random     0.363   0.277      0.526     0.526\n",
       "1      Logistic - Country Only     0.629   0.648      0.633     0.633\n",
       "2           Logistic - Model 1     0.645   0.648      0.645     0.645\n",
       "3           Logistic - Model 2     0.645   0.648      0.645     0.645\n",
       "4           Logistic - Model 3     0.646   0.648      0.645     0.645\n",
       "5  Logistic Separate - Model 1     0.646   0.648      0.646     0.646\n",
       "6              Model 1, KNN 30     0.642   0.644      0.642     0.642\n",
       "7              Model 1, KNN 40     0.644   0.646      0.644     0.644\n",
       "8              Model 1, KNN 50     0.642   0.644      0.642     0.642"
      ]
     },
     "execution_count": 484,
     "metadata": {},
     "output_type": "execute_result"
    }
   ],
   "source": [
    "eval_metrics_list_KNN1 = eval_metrics_list_sep1.copy()\n",
    "from sklearn.neighbors import KNeighborsClassifier\n",
    "\n",
    "eval_metrics_list_KNN1 = run_KNN_model(eval_metrics_list_KNN = eval_metrics_list_KNN1, k = 30, model_num = 1, model_vars = model_vars_model1)\n",
    "eval_metrics_list_KNN1 = run_KNN_model(eval_metrics_list_KNN = eval_metrics_list_KNN1, k = 40, model_num = 1, model_vars = model_vars_model1)\n",
    "eval_metrics_list_KNN1 = run_KNN_model(eval_metrics_list_KNN = eval_metrics_list_KNN1, k = 50, model_num = 1, model_vars = model_vars_model1)\n",
    "\n",
    "# Convert the list containing the metrics to a Pandas dataframe\n",
    "eval_metrics = pd.DataFrame(eval_metrics_list_KNN1, columns=names)\n",
    "eval_metrics"
   ]
  },
  {
   "cell_type": "markdown",
   "metadata": {
    "id": "JfDRweSoaMyZ"
   },
   "source": [
    "Comparing the metrics, K=40 appears to be a reasonable value for K.\n"
   ]
  },
  {
   "cell_type": "markdown",
   "metadata": {
    "id": "gt-H27jTaRCy"
   },
   "source": [
    "4.3.2 K Nearest Neighbors - Choosing Predictors\n",
    "We try the K=40 model for the predictors used in logistic models 2, and 3."
   ]
  },
  {
   "cell_type": "code",
   "execution_count": null,
   "metadata": {
    "colab": {
     "base_uri": "https://localhost:8080/",
     "height": 394
    },
    "id": "39EXCicYZ4-B",
    "outputId": "19a69fef-4764-4a74-a35a-91d233061cbb"
   },
   "outputs": [
    {
     "data": {
      "text/html": [
       "<div>\n",
       "<style scoped>\n",
       "    .dataframe tbody tr th:only-of-type {\n",
       "        vertical-align: middle;\n",
       "    }\n",
       "\n",
       "    .dataframe tbody tr th {\n",
       "        vertical-align: top;\n",
       "    }\n",
       "\n",
       "    .dataframe thead th {\n",
       "        text-align: right;\n",
       "    }\n",
       "</style>\n",
       "<table border=\"1\" class=\"dataframe\">\n",
       "  <thead>\n",
       "    <tr style=\"text-align: right;\">\n",
       "      <th></th>\n",
       "      <th>model</th>\n",
       "      <th>F1-Score</th>\n",
       "      <th>Recall</th>\n",
       "      <th>Precision</th>\n",
       "      <th>Accuracy</th>\n",
       "    </tr>\n",
       "  </thead>\n",
       "  <tbody>\n",
       "    <tr>\n",
       "      <th>0</th>\n",
       "      <td>Logistic - Random</td>\n",
       "      <td>0.363</td>\n",
       "      <td>0.277</td>\n",
       "      <td>0.526</td>\n",
       "      <td>0.526</td>\n",
       "    </tr>\n",
       "    <tr>\n",
       "      <th>1</th>\n",
       "      <td>Logistic - Country Only</td>\n",
       "      <td>0.629</td>\n",
       "      <td>0.648</td>\n",
       "      <td>0.633</td>\n",
       "      <td>0.633</td>\n",
       "    </tr>\n",
       "    <tr>\n",
       "      <th>2</th>\n",
       "      <td>Logistic - Model 1</td>\n",
       "      <td>0.645</td>\n",
       "      <td>0.648</td>\n",
       "      <td>0.645</td>\n",
       "      <td>0.645</td>\n",
       "    </tr>\n",
       "    <tr>\n",
       "      <th>3</th>\n",
       "      <td>Logistic - Model 2</td>\n",
       "      <td>0.645</td>\n",
       "      <td>0.648</td>\n",
       "      <td>0.645</td>\n",
       "      <td>0.645</td>\n",
       "    </tr>\n",
       "    <tr>\n",
       "      <th>4</th>\n",
       "      <td>Logistic - Model 3</td>\n",
       "      <td>0.646</td>\n",
       "      <td>0.648</td>\n",
       "      <td>0.645</td>\n",
       "      <td>0.645</td>\n",
       "    </tr>\n",
       "    <tr>\n",
       "      <th>5</th>\n",
       "      <td>Logistic Separate - Model 1</td>\n",
       "      <td>0.646</td>\n",
       "      <td>0.648</td>\n",
       "      <td>0.646</td>\n",
       "      <td>0.646</td>\n",
       "    </tr>\n",
       "    <tr>\n",
       "      <th>6</th>\n",
       "      <td>Model 1, KNN 30</td>\n",
       "      <td>0.642</td>\n",
       "      <td>0.644</td>\n",
       "      <td>0.642</td>\n",
       "      <td>0.642</td>\n",
       "    </tr>\n",
       "    <tr>\n",
       "      <th>7</th>\n",
       "      <td>Model 1, KNN 40</td>\n",
       "      <td>0.644</td>\n",
       "      <td>0.646</td>\n",
       "      <td>0.644</td>\n",
       "      <td>0.644</td>\n",
       "    </tr>\n",
       "    <tr>\n",
       "      <th>8</th>\n",
       "      <td>Model 1, KNN 50</td>\n",
       "      <td>0.642</td>\n",
       "      <td>0.644</td>\n",
       "      <td>0.642</td>\n",
       "      <td>0.642</td>\n",
       "    </tr>\n",
       "    <tr>\n",
       "      <th>9</th>\n",
       "      <td>Model 2, KNN 40</td>\n",
       "      <td>0.647</td>\n",
       "      <td>0.648</td>\n",
       "      <td>0.647</td>\n",
       "      <td>0.647</td>\n",
       "    </tr>\n",
       "    <tr>\n",
       "      <th>10</th>\n",
       "      <td>Model 3, KNN 40</td>\n",
       "      <td>0.647</td>\n",
       "      <td>0.648</td>\n",
       "      <td>0.647</td>\n",
       "      <td>0.647</td>\n",
       "    </tr>\n",
       "  </tbody>\n",
       "</table>\n",
       "</div>"
      ],
      "text/plain": [
       "                          model  F1-Score  Recall  Precision  Accuracy\n",
       "0             Logistic - Random     0.363   0.277      0.526     0.526\n",
       "1       Logistic - Country Only     0.629   0.648      0.633     0.633\n",
       "2            Logistic - Model 1     0.645   0.648      0.645     0.645\n",
       "3            Logistic - Model 2     0.645   0.648      0.645     0.645\n",
       "4            Logistic - Model 3     0.646   0.648      0.645     0.645\n",
       "5   Logistic Separate - Model 1     0.646   0.648      0.646     0.646\n",
       "6               Model 1, KNN 30     0.642   0.644      0.642     0.642\n",
       "7               Model 1, KNN 40     0.644   0.646      0.644     0.644\n",
       "8               Model 1, KNN 50     0.642   0.644      0.642     0.642\n",
       "9               Model 2, KNN 40     0.647   0.648      0.647     0.647\n",
       "10              Model 3, KNN 40     0.647   0.648      0.647     0.647"
      ]
     },
     "execution_count": 485,
     "metadata": {},
     "output_type": "execute_result"
    }
   ],
   "source": [
    "eval_metrics_list_KNN2 = eval_metrics_list_KNN1.copy()\n",
    "from sklearn.neighbors import KNeighborsClassifier\n",
    "\n",
    "eval_metrics_list_KNN2 = run_KNN_model(eval_metrics_list_KNN = eval_metrics_list_KNN2, k = 40, model_num = 2, model_vars = model_vars_model2)\n",
    "eval_metrics_list_KNN2 = run_KNN_model(eval_metrics_list_KNN = eval_metrics_list_KNN2, k = 40, model_num = 3, model_vars = model_vars_model3)\n",
    "\n",
    "# Convert the list containing the metrics to a Pandas dataframe\n",
    "eval_metrics = pd.DataFrame(eval_metrics_list_KNN2, columns=names)\n",
    "eval_metrics"
   ]
  },
  {
   "cell_type": "markdown",
   "metadata": {
    "id": "Hpbn8x-aVpGi"
   },
   "source": [
    "Unlike the logistic regression model, the the KNN model performs better for models 2 and 3 than model 1. The extra variables lend the KNN model slightly better prediction power though they are only slightly correlated with the default rate individually."
   ]
  },
  {
   "cell_type": "markdown",
   "metadata": {
    "id": "ulayiHn7Zebb"
   },
   "source": [
    "4.4 Perceptron Model\n",
    "\n",
    "4.4.1 Perceptron Model - Choosing Layer Structure\n",
    "We try fitting Perceptron Models for several differing layer structures, using the same predictors as logistic model 1.\n",
    "\n",
    "\n"
   ]
  },
  {
   "cell_type": "code",
   "execution_count": null,
   "metadata": {
    "id": "tic7K_Wha_xB"
   },
   "outputs": [],
   "source": [
    "from sklearn.neural_network import MLPClassifier\n",
    "\n",
    "# Perceptron model\n",
    "def run_MLPC_model(eval_metrics_list_MLPC, model_name, hidden_layer_sizes, model_vars):\n",
    "    MLP = MLPClassifier(activation='logistic', solver='lbfgs', \n",
    "                        hidden_layer_sizes=hidden_layer_sizes, max_iter=5000)\n",
    "    MLP.fit(X_training[model_vars], Y_training)\n",
    "    Y_testing_predicted=MLP.predict(X_testing[model_vars])\n",
    "\n",
    "    metric_f1_score = f1_score(Y_testing, Y_testing_predicted, average='weighted') # f1_score\n",
    "    metric_precision = precision_score(Y_testing, Y_testing_predicted, average='weighted') # Precision\n",
    "    metric_recall = recall_score(Y_testing, Y_testing_predicted, average='weighted') # Recall\n",
    "    metric_accuracy = accuracy_score(Y_testing, Y_testing_predicted) # Accuracy\n",
    "\n",
    "    eval_metrics_list_MLPC.append([model_name, metric_f1_score, metric_precision, metric_recall, metric_accuracy])\n",
    "    return(eval_metrics_list_MLPC)"
   ]
  },
  {
   "cell_type": "code",
   "execution_count": null,
   "metadata": {
    "colab": {
     "base_uri": "https://localhost:8080/",
     "height": 582
    },
    "id": "GS4ciB8CWJRJ",
    "outputId": "742ff25d-12f4-477e-c07a-193dae4084e4"
   },
   "outputs": [
    {
     "data": {
      "text/html": [
       "<div>\n",
       "<style scoped>\n",
       "    .dataframe tbody tr th:only-of-type {\n",
       "        vertical-align: middle;\n",
       "    }\n",
       "\n",
       "    .dataframe tbody tr th {\n",
       "        vertical-align: top;\n",
       "    }\n",
       "\n",
       "    .dataframe thead th {\n",
       "        text-align: right;\n",
       "    }\n",
       "</style>\n",
       "<table border=\"1\" class=\"dataframe\">\n",
       "  <thead>\n",
       "    <tr style=\"text-align: right;\">\n",
       "      <th></th>\n",
       "      <th>model</th>\n",
       "      <th>F1-Score</th>\n",
       "      <th>Recall</th>\n",
       "      <th>Precision</th>\n",
       "      <th>Accuracy</th>\n",
       "    </tr>\n",
       "  </thead>\n",
       "  <tbody>\n",
       "    <tr>\n",
       "      <th>0</th>\n",
       "      <td>Logistic - Random</td>\n",
       "      <td>0.363000</td>\n",
       "      <td>0.277000</td>\n",
       "      <td>0.526000</td>\n",
       "      <td>0.526000</td>\n",
       "    </tr>\n",
       "    <tr>\n",
       "      <th>1</th>\n",
       "      <td>Logistic - Country Only</td>\n",
       "      <td>0.629000</td>\n",
       "      <td>0.648000</td>\n",
       "      <td>0.633000</td>\n",
       "      <td>0.633000</td>\n",
       "    </tr>\n",
       "    <tr>\n",
       "      <th>2</th>\n",
       "      <td>Logistic - Model 1</td>\n",
       "      <td>0.645000</td>\n",
       "      <td>0.648000</td>\n",
       "      <td>0.645000</td>\n",
       "      <td>0.645000</td>\n",
       "    </tr>\n",
       "    <tr>\n",
       "      <th>3</th>\n",
       "      <td>Logistic - Model 2</td>\n",
       "      <td>0.645000</td>\n",
       "      <td>0.648000</td>\n",
       "      <td>0.645000</td>\n",
       "      <td>0.645000</td>\n",
       "    </tr>\n",
       "    <tr>\n",
       "      <th>4</th>\n",
       "      <td>Logistic - Model 3</td>\n",
       "      <td>0.646000</td>\n",
       "      <td>0.648000</td>\n",
       "      <td>0.645000</td>\n",
       "      <td>0.645000</td>\n",
       "    </tr>\n",
       "    <tr>\n",
       "      <th>5</th>\n",
       "      <td>Logistic Separate - Model 1</td>\n",
       "      <td>0.646000</td>\n",
       "      <td>0.648000</td>\n",
       "      <td>0.646000</td>\n",
       "      <td>0.646000</td>\n",
       "    </tr>\n",
       "    <tr>\n",
       "      <th>6</th>\n",
       "      <td>Model 1, KNN 30</td>\n",
       "      <td>0.642000</td>\n",
       "      <td>0.644000</td>\n",
       "      <td>0.642000</td>\n",
       "      <td>0.642000</td>\n",
       "    </tr>\n",
       "    <tr>\n",
       "      <th>7</th>\n",
       "      <td>Model 1, KNN 40</td>\n",
       "      <td>0.644000</td>\n",
       "      <td>0.646000</td>\n",
       "      <td>0.644000</td>\n",
       "      <td>0.644000</td>\n",
       "    </tr>\n",
       "    <tr>\n",
       "      <th>8</th>\n",
       "      <td>Model 1, KNN 50</td>\n",
       "      <td>0.642000</td>\n",
       "      <td>0.644000</td>\n",
       "      <td>0.642000</td>\n",
       "      <td>0.642000</td>\n",
       "    </tr>\n",
       "    <tr>\n",
       "      <th>9</th>\n",
       "      <td>Model 2, KNN 40</td>\n",
       "      <td>0.647000</td>\n",
       "      <td>0.648000</td>\n",
       "      <td>0.647000</td>\n",
       "      <td>0.647000</td>\n",
       "    </tr>\n",
       "    <tr>\n",
       "      <th>10</th>\n",
       "      <td>Model 3, KNN 40</td>\n",
       "      <td>0.647000</td>\n",
       "      <td>0.648000</td>\n",
       "      <td>0.647000</td>\n",
       "      <td>0.647000</td>\n",
       "    </tr>\n",
       "    <tr>\n",
       "      <th>11</th>\n",
       "      <td>Model 1, MLPC_5</td>\n",
       "      <td>0.651064</td>\n",
       "      <td>0.651823</td>\n",
       "      <td>0.650840</td>\n",
       "      <td>0.650840</td>\n",
       "    </tr>\n",
       "    <tr>\n",
       "      <th>12</th>\n",
       "      <td>Model 1, MLPC_7</td>\n",
       "      <td>0.651607</td>\n",
       "      <td>0.652379</td>\n",
       "      <td>0.651383</td>\n",
       "      <td>0.651383</td>\n",
       "    </tr>\n",
       "    <tr>\n",
       "      <th>13</th>\n",
       "      <td>Model 1, MLPC_10</td>\n",
       "      <td>0.648985</td>\n",
       "      <td>0.650147</td>\n",
       "      <td>0.648749</td>\n",
       "      <td>0.648749</td>\n",
       "    </tr>\n",
       "    <tr>\n",
       "      <th>14</th>\n",
       "      <td>Model 1, MLPC_5_5</td>\n",
       "      <td>0.649802</td>\n",
       "      <td>0.650333</td>\n",
       "      <td>0.649601</td>\n",
       "      <td>0.649601</td>\n",
       "    </tr>\n",
       "    <tr>\n",
       "      <th>15</th>\n",
       "      <td>Model 1, MLPC_7_7</td>\n",
       "      <td>0.649294</td>\n",
       "      <td>0.650478</td>\n",
       "      <td>0.649059</td>\n",
       "      <td>0.649059</td>\n",
       "    </tr>\n",
       "    <tr>\n",
       "      <th>16</th>\n",
       "      <td>Model 1, MLPC_10_10</td>\n",
       "      <td>0.649834</td>\n",
       "      <td>0.651111</td>\n",
       "      <td>0.649601</td>\n",
       "      <td>0.649601</td>\n",
       "    </tr>\n",
       "  </tbody>\n",
       "</table>\n",
       "</div>"
      ],
      "text/plain": [
       "                          model  F1-Score    Recall  Precision  Accuracy\n",
       "0             Logistic - Random  0.363000  0.277000   0.526000  0.526000\n",
       "1       Logistic - Country Only  0.629000  0.648000   0.633000  0.633000\n",
       "2            Logistic - Model 1  0.645000  0.648000   0.645000  0.645000\n",
       "3            Logistic - Model 2  0.645000  0.648000   0.645000  0.645000\n",
       "4            Logistic - Model 3  0.646000  0.648000   0.645000  0.645000\n",
       "5   Logistic Separate - Model 1  0.646000  0.648000   0.646000  0.646000\n",
       "6               Model 1, KNN 30  0.642000  0.644000   0.642000  0.642000\n",
       "7               Model 1, KNN 40  0.644000  0.646000   0.644000  0.644000\n",
       "8               Model 1, KNN 50  0.642000  0.644000   0.642000  0.642000\n",
       "9               Model 2, KNN 40  0.647000  0.648000   0.647000  0.647000\n",
       "10              Model 3, KNN 40  0.647000  0.648000   0.647000  0.647000\n",
       "11              Model 1, MLPC_5  0.651064  0.651823   0.650840  0.650840\n",
       "12              Model 1, MLPC_7  0.651607  0.652379   0.651383  0.651383\n",
       "13             Model 1, MLPC_10  0.648985  0.650147   0.648749  0.648749\n",
       "14            Model 1, MLPC_5_5  0.649802  0.650333   0.649601  0.649601\n",
       "15            Model 1, MLPC_7_7  0.649294  0.650478   0.649059  0.649059\n",
       "16          Model 1, MLPC_10_10  0.649834  0.651111   0.649601  0.649601"
      ]
     },
     "execution_count": 489,
     "metadata": {},
     "output_type": "execute_result"
    }
   ],
   "source": [
    "eval_metrics_list_MLPC1 = eval_metrics_list_KNN2.copy()\n",
    "\n",
    "eval_metrics_list_MLPC1 = run_MLPC_model(eval_metrics_list_MLPC=eval_metrics_list_MLPC1, model_name = 'Model 1, MLPC_5',\n",
    "                                       hidden_layer_sizes=(5,), model_vars = model_vars_model1)\n",
    "eval_metrics_list_MLPC1 = run_MLPC_model(eval_metrics_list_MLPC=eval_metrics_list_MLPC1, model_name = 'Model 1, MLPC_7',\n",
    "                                       hidden_layer_sizes=(7,), model_vars = model_vars_model1)\n",
    "eval_metrics_list_MLPC1 = run_MLPC_model(eval_metrics_list_MLPC=eval_metrics_list_MLPC1, model_name = 'Model 1, MLPC_10',\n",
    "                                       hidden_layer_sizes=(10,), model_vars = model_vars_model1)\n",
    "eval_metrics_list_MLPC1 = run_MLPC_model(eval_metrics_list_MLPC=eval_metrics_list_MLPC1, model_name = 'Model 1, MLPC_5_5',\n",
    "                                       hidden_layer_sizes=(5,5,), model_vars = model_vars_model1)\n",
    "eval_metrics_list_MLPC1 = run_MLPC_model(eval_metrics_list_MLPC=eval_metrics_list_MLPC1, model_name = 'Model 1, MLPC_7_7',\n",
    "                                       hidden_layer_sizes=(7,7,), model_vars = model_vars_model1)\n",
    "eval_metrics_list_MLPC1 = run_MLPC_model(eval_metrics_list_MLPC=eval_metrics_list_MLPC1, model_name = 'Model 1, MLPC_10_10',\n",
    "                                       hidden_layer_sizes=(10,10,), model_vars = model_vars_model1)\n",
    "\n",
    "\n",
    "# Convert the list containing the metrics to a Pandas dataframe\n",
    "eval_metrics = pd.DataFrame(eval_metrics_list_MLPC1, columns=names)\n",
    "eval_metrics"
   ]
  },
  {
   "cell_type": "markdown",
   "metadata": {
    "id": "OFn30nNCeeAd"
   },
   "source": [
    "The Perceptron model with a single layer of seven perceptrons has the optimal test set accuracy among the different layer structures tested."
   ]
  },
  {
   "cell_type": "markdown",
   "metadata": {
    "id": "OcvIK506gp32"
   },
   "source": [
    "4.4.2 Perceptron Model - Choosing Predictors\n",
    "We try the single layer 7 perceptron model for the predictors used in logistic models 2 and 3."
   ]
  },
  {
   "cell_type": "code",
   "execution_count": null,
   "metadata": {
    "colab": {
     "base_uri": "https://localhost:8080/",
     "height": 645
    },
    "id": "FxZEHct7erRb",
    "outputId": "cf5bf159-2396-419c-a048-5ab933ec0d66"
   },
   "outputs": [
    {
     "data": {
      "text/html": [
       "<div>\n",
       "<style scoped>\n",
       "    .dataframe tbody tr th:only-of-type {\n",
       "        vertical-align: middle;\n",
       "    }\n",
       "\n",
       "    .dataframe tbody tr th {\n",
       "        vertical-align: top;\n",
       "    }\n",
       "\n",
       "    .dataframe thead th {\n",
       "        text-align: right;\n",
       "    }\n",
       "</style>\n",
       "<table border=\"1\" class=\"dataframe\">\n",
       "  <thead>\n",
       "    <tr style=\"text-align: right;\">\n",
       "      <th></th>\n",
       "      <th>model</th>\n",
       "      <th>F1-Score</th>\n",
       "      <th>Recall</th>\n",
       "      <th>Precision</th>\n",
       "      <th>Accuracy</th>\n",
       "    </tr>\n",
       "  </thead>\n",
       "  <tbody>\n",
       "    <tr>\n",
       "      <th>0</th>\n",
       "      <td>Logistic - Random</td>\n",
       "      <td>0.363000</td>\n",
       "      <td>0.277000</td>\n",
       "      <td>0.526000</td>\n",
       "      <td>0.526000</td>\n",
       "    </tr>\n",
       "    <tr>\n",
       "      <th>1</th>\n",
       "      <td>Logistic - Country Only</td>\n",
       "      <td>0.629000</td>\n",
       "      <td>0.648000</td>\n",
       "      <td>0.633000</td>\n",
       "      <td>0.633000</td>\n",
       "    </tr>\n",
       "    <tr>\n",
       "      <th>2</th>\n",
       "      <td>Logistic - Model 1</td>\n",
       "      <td>0.645000</td>\n",
       "      <td>0.648000</td>\n",
       "      <td>0.645000</td>\n",
       "      <td>0.645000</td>\n",
       "    </tr>\n",
       "    <tr>\n",
       "      <th>3</th>\n",
       "      <td>Logistic - Model 2</td>\n",
       "      <td>0.645000</td>\n",
       "      <td>0.648000</td>\n",
       "      <td>0.645000</td>\n",
       "      <td>0.645000</td>\n",
       "    </tr>\n",
       "    <tr>\n",
       "      <th>4</th>\n",
       "      <td>Logistic - Model 3</td>\n",
       "      <td>0.646000</td>\n",
       "      <td>0.648000</td>\n",
       "      <td>0.645000</td>\n",
       "      <td>0.645000</td>\n",
       "    </tr>\n",
       "    <tr>\n",
       "      <th>5</th>\n",
       "      <td>Logistic Separate - Model 1</td>\n",
       "      <td>0.646000</td>\n",
       "      <td>0.648000</td>\n",
       "      <td>0.646000</td>\n",
       "      <td>0.646000</td>\n",
       "    </tr>\n",
       "    <tr>\n",
       "      <th>6</th>\n",
       "      <td>Model 1, KNN 30</td>\n",
       "      <td>0.642000</td>\n",
       "      <td>0.644000</td>\n",
       "      <td>0.642000</td>\n",
       "      <td>0.642000</td>\n",
       "    </tr>\n",
       "    <tr>\n",
       "      <th>7</th>\n",
       "      <td>Model 1, KNN 40</td>\n",
       "      <td>0.644000</td>\n",
       "      <td>0.646000</td>\n",
       "      <td>0.644000</td>\n",
       "      <td>0.644000</td>\n",
       "    </tr>\n",
       "    <tr>\n",
       "      <th>8</th>\n",
       "      <td>Model 1, KNN 50</td>\n",
       "      <td>0.642000</td>\n",
       "      <td>0.644000</td>\n",
       "      <td>0.642000</td>\n",
       "      <td>0.642000</td>\n",
       "    </tr>\n",
       "    <tr>\n",
       "      <th>9</th>\n",
       "      <td>Model 2, KNN 40</td>\n",
       "      <td>0.647000</td>\n",
       "      <td>0.648000</td>\n",
       "      <td>0.647000</td>\n",
       "      <td>0.647000</td>\n",
       "    </tr>\n",
       "    <tr>\n",
       "      <th>10</th>\n",
       "      <td>Model 3, KNN 40</td>\n",
       "      <td>0.647000</td>\n",
       "      <td>0.648000</td>\n",
       "      <td>0.647000</td>\n",
       "      <td>0.647000</td>\n",
       "    </tr>\n",
       "    <tr>\n",
       "      <th>11</th>\n",
       "      <td>Model 1, MLPC_5</td>\n",
       "      <td>0.651064</td>\n",
       "      <td>0.651823</td>\n",
       "      <td>0.650840</td>\n",
       "      <td>0.650840</td>\n",
       "    </tr>\n",
       "    <tr>\n",
       "      <th>12</th>\n",
       "      <td>Model 1, MLPC_7</td>\n",
       "      <td>0.651607</td>\n",
       "      <td>0.652379</td>\n",
       "      <td>0.651383</td>\n",
       "      <td>0.651383</td>\n",
       "    </tr>\n",
       "    <tr>\n",
       "      <th>13</th>\n",
       "      <td>Model 1, MLPC_10</td>\n",
       "      <td>0.648985</td>\n",
       "      <td>0.650147</td>\n",
       "      <td>0.648749</td>\n",
       "      <td>0.648749</td>\n",
       "    </tr>\n",
       "    <tr>\n",
       "      <th>14</th>\n",
       "      <td>Model 1, MLPC_5_5</td>\n",
       "      <td>0.649802</td>\n",
       "      <td>0.650333</td>\n",
       "      <td>0.649601</td>\n",
       "      <td>0.649601</td>\n",
       "    </tr>\n",
       "    <tr>\n",
       "      <th>15</th>\n",
       "      <td>Model 1, MLPC_7_7</td>\n",
       "      <td>0.649294</td>\n",
       "      <td>0.650478</td>\n",
       "      <td>0.649059</td>\n",
       "      <td>0.649059</td>\n",
       "    </tr>\n",
       "    <tr>\n",
       "      <th>16</th>\n",
       "      <td>Model 1, MLPC_10_10</td>\n",
       "      <td>0.649834</td>\n",
       "      <td>0.651111</td>\n",
       "      <td>0.649601</td>\n",
       "      <td>0.649601</td>\n",
       "    </tr>\n",
       "    <tr>\n",
       "      <th>17</th>\n",
       "      <td>Model 2, MLPC_7</td>\n",
       "      <td>0.651662</td>\n",
       "      <td>0.652208</td>\n",
       "      <td>0.651460</td>\n",
       "      <td>0.651460</td>\n",
       "    </tr>\n",
       "    <tr>\n",
       "      <th>18</th>\n",
       "      <td>Model 3, MLPC_7</td>\n",
       "      <td>0.654858</td>\n",
       "      <td>0.655631</td>\n",
       "      <td>0.654636</td>\n",
       "      <td>0.654636</td>\n",
       "    </tr>\n",
       "  </tbody>\n",
       "</table>\n",
       "</div>"
      ],
      "text/plain": [
       "                          model  F1-Score    Recall  Precision  Accuracy\n",
       "0             Logistic - Random  0.363000  0.277000   0.526000  0.526000\n",
       "1       Logistic - Country Only  0.629000  0.648000   0.633000  0.633000\n",
       "2            Logistic - Model 1  0.645000  0.648000   0.645000  0.645000\n",
       "3            Logistic - Model 2  0.645000  0.648000   0.645000  0.645000\n",
       "4            Logistic - Model 3  0.646000  0.648000   0.645000  0.645000\n",
       "5   Logistic Separate - Model 1  0.646000  0.648000   0.646000  0.646000\n",
       "6               Model 1, KNN 30  0.642000  0.644000   0.642000  0.642000\n",
       "7               Model 1, KNN 40  0.644000  0.646000   0.644000  0.644000\n",
       "8               Model 1, KNN 50  0.642000  0.644000   0.642000  0.642000\n",
       "9               Model 2, KNN 40  0.647000  0.648000   0.647000  0.647000\n",
       "10              Model 3, KNN 40  0.647000  0.648000   0.647000  0.647000\n",
       "11              Model 1, MLPC_5  0.651064  0.651823   0.650840  0.650840\n",
       "12              Model 1, MLPC_7  0.651607  0.652379   0.651383  0.651383\n",
       "13             Model 1, MLPC_10  0.648985  0.650147   0.648749  0.648749\n",
       "14            Model 1, MLPC_5_5  0.649802  0.650333   0.649601  0.649601\n",
       "15            Model 1, MLPC_7_7  0.649294  0.650478   0.649059  0.649059\n",
       "16          Model 1, MLPC_10_10  0.649834  0.651111   0.649601  0.649601\n",
       "17              Model 2, MLPC_7  0.651662  0.652208   0.651460  0.651460\n",
       "18              Model 3, MLPC_7  0.654858  0.655631   0.654636  0.654636"
      ]
     },
     "execution_count": 490,
     "metadata": {},
     "output_type": "execute_result"
    }
   ],
   "source": [
    "eval_metrics_list_MLPC2 = eval_metrics_list_MLPC1.copy()\n",
    "\n",
    "eval_metrics_list_MLPC2 = run_MLPC_model(eval_metrics_list_MLPC=eval_metrics_list_MLPC2, model_name = 'Model 2, MLPC_7',\n",
    "                                       hidden_layer_sizes=(7,), model_vars = model_vars_model2)\n",
    "eval_metrics_list_MLPC2 = run_MLPC_model(eval_metrics_list_MLPC=eval_metrics_list_MLPC2, model_name = 'Model 3, MLPC_7',\n",
    "                                       hidden_layer_sizes=(7,), model_vars = model_vars_model3)\n",
    "\n",
    "\n",
    "# Convert the list containing the metrics to a Pandas dataframe\n",
    "eval_metrics = pd.DataFrame(eval_metrics_list_MLPC2, columns=names)\n",
    "eval_metrics"
   ]
  },
  {
   "cell_type": "markdown",
   "metadata": {
    "id": "IHXVMI1Eed7z"
   },
   "source": [
    "Like the KNN model but unlike the logistic regression, the perceptron model performs slightly with the extra variables in models 2 and 3 compared with model 1. The test set prediction accuracy is optimized for the Model 3 predictors."
   ]
  },
  {
   "cell_type": "markdown",
   "metadata": {
    "id": "iiduiSl-eNVt"
   },
   "source": [
    "5. Conclusions\n"
   ]
  },
  {
   "cell_type": "markdown",
   "metadata": {
    "id": "0Rn4-ADVl4kY"
   },
   "source": [
    "5.1 Findings in Predicted Values"
   ]
  },
  {
   "cell_type": "markdown",
   "metadata": {
    "id": "PSJXpjyXmrq4"
   },
   "source": [
    "The high dimensionality of the predictors pose some challenge for plotting the predicted values. In this section, we plot a bivariate cross-sections for two of the predictors."
   ]
  },
  {
   "cell_type": "code",
   "execution_count": null,
   "metadata": {
    "id": "9VWUSauhO5G4"
   },
   "outputs": [],
   "source": [
    "# Fit the Single-Layer 7-Perceptron model selected in 4.\n",
    "MLP = MLPClassifier(activation='logistic', solver='lbfgs', hidden_layer_sizes=(7,), max_iter=5000)\n",
    "MLP.fit(X_training[model_vars_model3], Y_training)"
   ]
  },
  {
   "cell_type": "code",
   "execution_count": null,
   "metadata": {
    "id": "wq7pyJDFm2Pp"
   },
   "outputs": [],
   "source": [
    "# Take sample of the testing data for plotting\n",
    "X_testing_sample = X_testing.sample(2000)\n",
    "Y_testing_predicted=MLP.predict(X_testing_sample[model_vars_model3])"
   ]
  },
  {
   "cell_type": "markdown",
   "metadata": {
    "id": "immwwQlLntQx"
   },
   "source": [
    "###5.2.1 Total Income vs Monthly Payment\n",
    "\n",
    "Red indicates a predicted default, and black represents a predicted non-default."
   ]
  },
  {
   "cell_type": "code",
   "execution_count": null,
   "metadata": {
    "colab": {
     "base_uri": "https://localhost:8080/",
     "height": 350
    },
    "id": "y8uYvE3SlZAg",
    "outputId": "c83b9970-413d-411e-8bac-5d11bc9a9d63"
   },
   "outputs": [
    {
     "data": {
      "image/png": "[encoded data removed]",
      "text/plain": [
       "<Figure size 360x360 with 1 Axes>"
      ]
     },
     "metadata": {
      "needs_background": "light"
     },
     "output_type": "display_data"
    }
   ],
   "source": [
    "colors = {'Y':'red', 'N':'black'}\n",
    "plt.scatter(X_testing_sample['IncomeTotal_log'], X_testing_sample['MonthlyPayment_log'], c = pd.DataFrame(Y_testing_predicted)[0].map(colors))\n",
    "plt.title(\"Total Income vs Monthly Payment\")\n",
    "plt.xlabel('log(Total Income)')\n",
    "plt.ylabel('log(Monthly Payment)')\n",
    "plt.gcf().set_size_inches(5, 5) # Set figure size\n",
    "plt.show()"
   ]
  },
  {
   "cell_type": "markdown",
   "metadata": {
    "id": "p6Tcp-naoE5x"
   },
   "source": [
    "From this plot, we see the highest predicted default rate when the borrower's total monthly income and monthly loan payment are simultaneously high (the high concentration of red dots on the top right). Another trend is the correlation between income and monthly payment (there aren't many points in the top left of either color). We need to remember that the dataset is comprized of loans actually initiated on Bondora and not a randomized trial. If there were more loans indiscriminately approved that fell into the top left of this plot (low income but high loan payment) then it's possible that the default rate would be even higher there, which could affect the fit of the model. So my intuition is that the fact that total income and monthly payment seem to be \"working together\" to predict default is mainly related to the selection bias in which types of loans are approved by Bondora."
   ]
  },
  {
   "cell_type": "markdown",
   "metadata": {
    "id": "aaZS-DeSrymK"
   },
   "source": [
    "\n",
    "###5.2 Overview of Model Selection from Section 4.\n",
    "The metrics F1-Score, Recall, Precision, and Accuracy listed for all classifiers we tested in 4.4.2 are presented again as follows.\n",
    "\n",
    "Out of the classifier models we tried, the single-layer seven-perceptron model that uses the full set of Model 3 predictors (home ownership type, education level, newness to credit, financial verification type, monthly loan payment, retiree status, total income, age, and time to first payment) simultaneously optimizes all four metrics, reaching a test set prediction accuracy of 65.4%. \n",
    "\n",
    "In comparison, the best K Nearest Neighbor model used K=40 with the Model 2 predictors (home ownership type, education level, newness to credit, financial verification type, monthly loan payment, retiree status) and reached a prediction accuracy of 64.7%. The best logistic regression model used the Model 1 predictors (home ownership type, education level, newness to credit, financial verification type) and reached a prediction accuracy of 64.5%.\n",
    "\n",
    "In this case, it looks like the greated non-linear flexibility of the K-Nearest Neighbor and Perceptron models provided a slightly better fit to the data than did the logistic regression model. These more flexible models may be worth considering genrally in situations like this where there are simultaneously a number of correlated predictors and a large sample size that allows greater models flexibility with risk of overfitting the data."
   ]
  },
  {
   "cell_type": "code",
   "execution_count": null,
   "metadata": {
    "colab": {
     "base_uri": "https://localhost:8080/",
     "height": 645
    },
    "id": "jtwk9K79sKlw",
    "outputId": "a60b73cf-48cc-4adc-b1b1-63207328565c"
   },
   "outputs": [
    {
     "data": {
      "text/html": [
       "<div>\n",
       "<style scoped>\n",
       "    .dataframe tbody tr th:only-of-type {\n",
       "        vertical-align: middle;\n",
       "    }\n",
       "\n",
       "    .dataframe tbody tr th {\n",
       "        vertical-align: top;\n",
       "    }\n",
       "\n",
       "    .dataframe thead th {\n",
       "        text-align: right;\n",
       "    }\n",
       "</style>\n",
       "<table border=\"1\" class=\"dataframe\">\n",
       "  <thead>\n",
       "    <tr style=\"text-align: right;\">\n",
       "      <th></th>\n",
       "      <th>model</th>\n",
       "      <th>F1-Score</th>\n",
       "      <th>Recall</th>\n",
       "      <th>Precision</th>\n",
       "      <th>Accuracy</th>\n",
       "    </tr>\n",
       "  </thead>\n",
       "  <tbody>\n",
       "    <tr>\n",
       "      <th>0</th>\n",
       "      <td>Logistic - Random</td>\n",
       "      <td>0.363000</td>\n",
       "      <td>0.277000</td>\n",
       "      <td>0.526000</td>\n",
       "      <td>0.526000</td>\n",
       "    </tr>\n",
       "    <tr>\n",
       "      <th>1</th>\n",
       "      <td>Logistic - Country Only</td>\n",
       "      <td>0.629000</td>\n",
       "      <td>0.648000</td>\n",
       "      <td>0.633000</td>\n",
       "      <td>0.633000</td>\n",
       "    </tr>\n",
       "    <tr>\n",
       "      <th>2</th>\n",
       "      <td>Logistic - Model 1</td>\n",
       "      <td>0.645000</td>\n",
       "      <td>0.648000</td>\n",
       "      <td>0.645000</td>\n",
       "      <td>0.645000</td>\n",
       "    </tr>\n",
       "    <tr>\n",
       "      <th>3</th>\n",
       "      <td>Logistic - Model 2</td>\n",
       "      <td>0.645000</td>\n",
       "      <td>0.648000</td>\n",
       "      <td>0.645000</td>\n",
       "      <td>0.645000</td>\n",
       "    </tr>\n",
       "    <tr>\n",
       "      <th>4</th>\n",
       "      <td>Logistic - Model 3</td>\n",
       "      <td>0.646000</td>\n",
       "      <td>0.648000</td>\n",
       "      <td>0.645000</td>\n",
       "      <td>0.645000</td>\n",
       "    </tr>\n",
       "    <tr>\n",
       "      <th>5</th>\n",
       "      <td>Logistic Separate - Model 1</td>\n",
       "      <td>0.646000</td>\n",
       "      <td>0.648000</td>\n",
       "      <td>0.646000</td>\n",
       "      <td>0.646000</td>\n",
       "    </tr>\n",
       "    <tr>\n",
       "      <th>6</th>\n",
       "      <td>Model 1, KNN 30</td>\n",
       "      <td>0.642000</td>\n",
       "      <td>0.644000</td>\n",
       "      <td>0.642000</td>\n",
       "      <td>0.642000</td>\n",
       "    </tr>\n",
       "    <tr>\n",
       "      <th>7</th>\n",
       "      <td>Model 1, KNN 40</td>\n",
       "      <td>0.644000</td>\n",
       "      <td>0.646000</td>\n",
       "      <td>0.644000</td>\n",
       "      <td>0.644000</td>\n",
       "    </tr>\n",
       "    <tr>\n",
       "      <th>8</th>\n",
       "      <td>Model 1, KNN 50</td>\n",
       "      <td>0.642000</td>\n",
       "      <td>0.644000</td>\n",
       "      <td>0.642000</td>\n",
       "      <td>0.642000</td>\n",
       "    </tr>\n",
       "    <tr>\n",
       "      <th>9</th>\n",
       "      <td>Model 2, KNN 40</td>\n",
       "      <td>0.647000</td>\n",
       "      <td>0.648000</td>\n",
       "      <td>0.647000</td>\n",
       "      <td>0.647000</td>\n",
       "    </tr>\n",
       "    <tr>\n",
       "      <th>10</th>\n",
       "      <td>Model 3, KNN 40</td>\n",
       "      <td>0.647000</td>\n",
       "      <td>0.648000</td>\n",
       "      <td>0.647000</td>\n",
       "      <td>0.647000</td>\n",
       "    </tr>\n",
       "    <tr>\n",
       "      <th>11</th>\n",
       "      <td>Model 1, MLPC_5</td>\n",
       "      <td>0.651064</td>\n",
       "      <td>0.651823</td>\n",
       "      <td>0.650840</td>\n",
       "      <td>0.650840</td>\n",
       "    </tr>\n",
       "    <tr>\n",
       "      <th>12</th>\n",
       "      <td>Model 1, MLPC_7</td>\n",
       "      <td>0.651607</td>\n",
       "      <td>0.652379</td>\n",
       "      <td>0.651383</td>\n",
       "      <td>0.651383</td>\n",
       "    </tr>\n",
       "    <tr>\n",
       "      <th>13</th>\n",
       "      <td>Model 1, MLPC_10</td>\n",
       "      <td>0.648985</td>\n",
       "      <td>0.650147</td>\n",
       "      <td>0.648749</td>\n",
       "      <td>0.648749</td>\n",
       "    </tr>\n",
       "    <tr>\n",
       "      <th>14</th>\n",
       "      <td>Model 1, MLPC_5_5</td>\n",
       "      <td>0.649802</td>\n",
       "      <td>0.650333</td>\n",
       "      <td>0.649601</td>\n",
       "      <td>0.649601</td>\n",
       "    </tr>\n",
       "    <tr>\n",
       "      <th>15</th>\n",
       "      <td>Model 1, MLPC_7_7</td>\n",
       "      <td>0.649294</td>\n",
       "      <td>0.650478</td>\n",
       "      <td>0.649059</td>\n",
       "      <td>0.649059</td>\n",
       "    </tr>\n",
       "    <tr>\n",
       "      <th>16</th>\n",
       "      <td>Model 1, MLPC_10_10</td>\n",
       "      <td>0.649834</td>\n",
       "      <td>0.651111</td>\n",
       "      <td>0.649601</td>\n",
       "      <td>0.649601</td>\n",
       "    </tr>\n",
       "    <tr>\n",
       "      <th>17</th>\n",
       "      <td>Model 2, MLPC_7</td>\n",
       "      <td>0.651662</td>\n",
       "      <td>0.652208</td>\n",
       "      <td>0.651460</td>\n",
       "      <td>0.651460</td>\n",
       "    </tr>\n",
       "    <tr>\n",
       "      <th>18</th>\n",
       "      <td>Model 3, MLPC_7</td>\n",
       "      <td>0.654858</td>\n",
       "      <td>0.655631</td>\n",
       "      <td>0.654636</td>\n",
       "      <td>0.654636</td>\n",
       "    </tr>\n",
       "  </tbody>\n",
       "</table>\n",
       "</div>"
      ],
      "text/plain": [
       "                          model  F1-Score    Recall  Precision  Accuracy\n",
       "0             Logistic - Random  0.363000  0.277000   0.526000  0.526000\n",
       "1       Logistic - Country Only  0.629000  0.648000   0.633000  0.633000\n",
       "2            Logistic - Model 1  0.645000  0.648000   0.645000  0.645000\n",
       "3            Logistic - Model 2  0.645000  0.648000   0.645000  0.645000\n",
       "4            Logistic - Model 3  0.646000  0.648000   0.645000  0.645000\n",
       "5   Logistic Separate - Model 1  0.646000  0.648000   0.646000  0.646000\n",
       "6               Model 1, KNN 30  0.642000  0.644000   0.642000  0.642000\n",
       "7               Model 1, KNN 40  0.644000  0.646000   0.644000  0.644000\n",
       "8               Model 1, KNN 50  0.642000  0.644000   0.642000  0.642000\n",
       "9               Model 2, KNN 40  0.647000  0.648000   0.647000  0.647000\n",
       "10              Model 3, KNN 40  0.647000  0.648000   0.647000  0.647000\n",
       "11              Model 1, MLPC_5  0.651064  0.651823   0.650840  0.650840\n",
       "12              Model 1, MLPC_7  0.651607  0.652379   0.651383  0.651383\n",
       "13             Model 1, MLPC_10  0.648985  0.650147   0.648749  0.648749\n",
       "14            Model 1, MLPC_5_5  0.649802  0.650333   0.649601  0.649601\n",
       "15            Model 1, MLPC_7_7  0.649294  0.650478   0.649059  0.649059\n",
       "16          Model 1, MLPC_10_10  0.649834  0.651111   0.649601  0.649601\n",
       "17              Model 2, MLPC_7  0.651662  0.652208   0.651460  0.651460\n",
       "18              Model 3, MLPC_7  0.654858  0.655631   0.654636  0.654636"
      ]
     },
     "execution_count": 538,
     "metadata": {},
     "output_type": "execute_result"
    }
   ],
   "source": [
    "eval_metrics"
   ]
  },
  {
   "cell_type": "markdown",
   "metadata": {
    "id": "4YuTRpZAsGfz"
   },
   "source": [
    "5.3 Final Thoughts\n",
    "\n",
    "As mentioned in 4.1.1, the accuracy for the completely random model is 52.6% and the accuracy for the model that only uses country is %63.3. Based on these accuracies, we conclude that the predictor variables that we are including in our modelin contain sufficient information to improve the by-country prediction by several percent, there is a large amount of uncertainty that remains in our classifiers. If we were employed by Bondora and wanted to improve upon this modeling approaches, the priority would be placed on gathering more sources of information and improving data collection, as opposed to trying other modeling approaches.\n",
    "\n",
    "One major weakness of our outcome variable (default status) is the different lengths of observation periods for loans that were initialized on different dates. We controlled for this by dropping loans that initialized after 2018 and also including the date of initiation as a predictor variable. However, for future modeling, we would recommend creating a derived variable \"default status after 1 years\" to use as the outcome variable to ensure comparability between the loans.\n",
    "\n",
    "Also, as mentioned in 5.2.1, the data used in this analys consists of loans that were actually initiated on Bondora, a peer-to-peer lending platform. When we assess default risk, we need to remember that the parties that agree to each loan are actively gauging the default risk as they enter the deals. The peer lenders are less likely to enter loans they think are risky and likewise Bondora the platform may have rules against loans they deem too risky. Thus the loans in this data are far from a random sample from the predictors we used! All classifiers based on this data are wedded to the conditions in Bondora at the time of data collection (2017-2018). We gauged our best classifier as around 65.4% accurate. However, if there are any significant changes to the Bondora platform rules, the demographics the platform serves, macroeconomic conditions such as interest rate, and so on, then we would expect that our classifier would quickly become outdated, and would need to be continuously retrained on newer data."
   ]
  }
 ],
 "metadata": {
  "colab": {
   "collapsed_sections": [
    "LTjePQxb-ALo",
    "3IXdCUSf-nKp",
    "ArjHzQ1fLtWd"
   ],
   "name": "Mann_Final.ipynb",
   "provenance": []
  },
  "kernelspec": {
   "display_name": "Python 3 (ipykernel)",
   "language": "python",
   "name": "python3"
  },
  "language_info": {
   "codemirror_mode": {
    "name": "ipython",
    "version": 3
   },
   "file_extension": ".py",
   "mimetype": "text/x-python",
   "name": "python",
   "nbconvert_exporter": "python",
   "pygments_lexer": "ipython3",
   "version": "3.10.0"
  }
 },
 "nbformat": 4,
 "nbformat_minor": 1
}
